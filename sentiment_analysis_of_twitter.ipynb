{
  "cells": [
    {
      "cell_type": "markdown",
      "metadata": {
        "id": "view-in-github",
        "colab_type": "text"
      },
      "source": [
        "<a href=\"https://colab.research.google.com/github/Durgasiv/Twitter--sentiment-analysis/blob/main/sentiment_analysis_of_twitter.ipynb\" target=\"_parent\"><img src=\"https://colab.research.google.com/assets/colab-badge.svg\" alt=\"Open In Colab\"/></a>"
      ]
    },
    {
      "cell_type": "code",
      "execution_count": null,
      "metadata": {
        "colab": {
          "base_uri": "https://localhost:8080/"
        },
        "id": "pSV_YlfBHx9t",
        "outputId": "fac04a26-75a9-4c2b-df7b-dc19e702b40f"
      },
      "outputs": [
        {
          "name": "stdout",
          "output_type": "stream",
          "text": [
            "Requirement already satisfied: textblob in /usr/local/lib/python3.10/dist-packages (0.17.1)\n",
            "Requirement already satisfied: nltk>=3.1 in /usr/local/lib/python3.10/dist-packages (from textblob) (3.8.1)\n",
            "Requirement already satisfied: click in /usr/local/lib/python3.10/dist-packages (from nltk>=3.1->textblob) (8.1.7)\n",
            "Requirement already satisfied: joblib in /usr/local/lib/python3.10/dist-packages (from nltk>=3.1->textblob) (1.3.2)\n",
            "Requirement already satisfied: regex>=2021.8.3 in /usr/local/lib/python3.10/dist-packages (from nltk>=3.1->textblob) (2023.12.25)\n",
            "Requirement already satisfied: tqdm in /usr/local/lib/python3.10/dist-packages (from nltk>=3.1->textblob) (4.66.2)\n",
            "time: 7.04 s (started: 2024-03-05 16:47:45 +00:00)\n"
          ]
        }
      ],
      "source": [
        "pip install textblob"
      ]
    },
    {
      "cell_type": "code",
      "execution_count": null,
      "metadata": {
        "colab": {
          "base_uri": "https://localhost:8080/"
        },
        "id": "qqm3MwFXJlfu",
        "outputId": "e8e0e438-84b5-4fa5-d4de-0d77c9ffc943"
      },
      "outputs": [
        {
          "name": "stdout",
          "output_type": "stream",
          "text": [
            "time: 516 µs (started: 2024-03-05 16:47:52 +00:00)\n"
          ]
        }
      ],
      "source": [
        "from textblob import TextBlob"
      ]
    },
    {
      "cell_type": "code",
      "execution_count": null,
      "metadata": {
        "colab": {
          "base_uri": "https://localhost:8080/"
        },
        "id": "-5Jt3-vtJli6",
        "outputId": "01e0b62a-7310-478d-da82-819f15495482"
      },
      "outputs": [
        {
          "name": "stdout",
          "output_type": "stream",
          "text": [
            "time: 868 µs (started: 2024-03-05 16:47:52 +00:00)\n"
          ]
        }
      ],
      "source": [
        "import re\n",
        "import numpy as np\n",
        "import pandas as pd\n",
        "# plotting\n",
        "import seaborn as sns\n",
        "from wordcloud import WordCloud\n",
        "import matplotlib.pyplot as plt\n",
        "# nltk\n",
        "from nltk.stem import WordNetLemmatizer\n",
        "# sklearn\n",
        "from sklearn.svm import LinearSVC\n",
        "from sklearn.naive_bayes import BernoulliNB\n",
        "from sklearn.linear_model import LogisticRegression\n",
        "from sklearn.model_selection import train_test_split\n",
        "from sklearn.feature_extraction.text import TfidfVectorizer\n",
        "from sklearn.metrics import confusion_matrix, classification_report"
      ]
    },
    {
      "cell_type": "code",
      "execution_count": null,
      "metadata": {
        "colab": {
          "base_uri": "https://localhost:8080/",
          "height": 261
        },
        "id": "NmCVeThFJlmN",
        "outputId": "f8d99457-edd4-4ec7-9a1c-1342c42a54be"
      },
      "outputs": [
        {
          "name": "stderr",
          "output_type": "stream",
          "text": [
            "<ipython-input-235-6f84d2f9e5de>:4: DtypeWarning: Columns (1) have mixed types. Specify dtype option on import or set low_memory=False.\n",
            "  df = pd.read_csv('/content/Twitter_Data.csv', encoding=DATASET_ENCODING, names=DATASET_COLUMNS)\n"
          ]
        },
        {
          "data": {
            "application/vnd.google.colaboratory.intrinsic+json": {
              "summary": "{\n  \"name\": \"df\",\n  \"rows\": 5,\n  \"fields\": [\n    {\n      \"column\": \"target\",\n      \"properties\": {\n        \"dtype\": \"string\",\n        \"num_unique_values\": 5,\n        \"samples\": [\n          \"badhaai mocks having completed 100 scams \",\n          \"only congress and terrorists are not happy says modi india news \",\n          \"much anticipated book now available amazon and flipkart too\\nhere are the buy link\\nfor flipkart for amazon \"\n        ],\n        \"semantic_type\": \"\",\n        \"description\": \"\"\n      }\n    },\n    {\n      \"column\": \"ids\",\n      \"properties\": {\n        \"dtype\": \"string\",\n        \"num_unique_values\": 3,\n        \"samples\": [\n          \"0\",\n          \"1\",\n          -1.0\n        ],\n        \"semantic_type\": \"\",\n        \"description\": \"\"\n      }\n    },\n    {\n      \"column\": \"date\",\n      \"properties\": {\n        \"dtype\": \"number\",\n        \"std\": null,\n        \"min\": null,\n        \"max\": null,\n        \"num_unique_values\": 0,\n        \"samples\": [],\n        \"semantic_type\": \"\",\n        \"description\": \"\"\n      }\n    },\n    {\n      \"column\": \"flag\",\n      \"properties\": {\n        \"dtype\": \"number\",\n        \"std\": null,\n        \"min\": null,\n        \"max\": null,\n        \"num_unique_values\": 0,\n        \"samples\": [],\n        \"semantic_type\": \"\",\n        \"description\": \"\"\n      }\n    },\n    {\n      \"column\": \"user\",\n      \"properties\": {\n        \"dtype\": \"number\",\n        \"std\": null,\n        \"min\": null,\n        \"max\": null,\n        \"num_unique_values\": 0,\n        \"samples\": [],\n        \"semantic_type\": \"\",\n        \"description\": \"\"\n      }\n    },\n    {\n      \"column\": \"text\",\n      \"properties\": {\n        \"dtype\": \"number\",\n        \"std\": null,\n        \"min\": null,\n        \"max\": null,\n        \"num_unique_values\": 0,\n        \"samples\": [],\n        \"semantic_type\": \"\",\n        \"description\": \"\"\n      }\n    }\n  ]\n}",
              "type": "dataframe"
            },
            "text/html": [
              "\n",
              "  <div id=\"df-1ab17cac-88be-4f31-9174-7836c74bfcdd\" class=\"colab-df-container\">\n",
              "    <div>\n",
              "<style scoped>\n",
              "    .dataframe tbody tr th:only-of-type {\n",
              "        vertical-align: middle;\n",
              "    }\n",
              "\n",
              "    .dataframe tbody tr th {\n",
              "        vertical-align: top;\n",
              "    }\n",
              "\n",
              "    .dataframe thead th {\n",
              "        text-align: right;\n",
              "    }\n",
              "</style>\n",
              "<table border=\"1\" class=\"dataframe\">\n",
              "  <thead>\n",
              "    <tr style=\"text-align: right;\">\n",
              "      <th></th>\n",
              "      <th>target</th>\n",
              "      <th>ids</th>\n",
              "      <th>date</th>\n",
              "      <th>flag</th>\n",
              "      <th>user</th>\n",
              "      <th>text</th>\n",
              "    </tr>\n",
              "  </thead>\n",
              "  <tbody>\n",
              "    <tr>\n",
              "      <th>45653</th>\n",
              "      <td>there was need invoke nehruits achievement spa...</td>\n",
              "      <td>0</td>\n",
              "      <td>NaN</td>\n",
              "      <td>NaN</td>\n",
              "      <td>NaN</td>\n",
              "      <td>NaN</td>\n",
              "    </tr>\n",
              "    <tr>\n",
              "      <th>83970</th>\n",
              "      <td>badhaai mocks having completed 100 scams</td>\n",
              "      <td>0</td>\n",
              "      <td>NaN</td>\n",
              "      <td>NaN</td>\n",
              "      <td>NaN</td>\n",
              "      <td>NaN</td>\n",
              "    </tr>\n",
              "    <tr>\n",
              "      <th>25671</th>\n",
              "      <td>much anticipated book now available amazon and...</td>\n",
              "      <td>1</td>\n",
              "      <td>NaN</td>\n",
              "      <td>NaN</td>\n",
              "      <td>NaN</td>\n",
              "      <td>NaN</td>\n",
              "    </tr>\n",
              "    <tr>\n",
              "      <th>93136</th>\n",
              "      <td>yeddyurappas diary rs1800 crores given modis b...</td>\n",
              "      <td>1</td>\n",
              "      <td>NaN</td>\n",
              "      <td>NaN</td>\n",
              "      <td>NaN</td>\n",
              "      <td>NaN</td>\n",
              "    </tr>\n",
              "    <tr>\n",
              "      <th>141739</th>\n",
              "      <td>only congress and terrorists are not happy say...</td>\n",
              "      <td>-1.0</td>\n",
              "      <td>NaN</td>\n",
              "      <td>NaN</td>\n",
              "      <td>NaN</td>\n",
              "      <td>NaN</td>\n",
              "    </tr>\n",
              "  </tbody>\n",
              "</table>\n",
              "</div>\n",
              "    <div class=\"colab-df-buttons\">\n",
              "\n",
              "  <div class=\"colab-df-container\">\n",
              "    <button class=\"colab-df-convert\" onclick=\"convertToInteractive('df-1ab17cac-88be-4f31-9174-7836c74bfcdd')\"\n",
              "            title=\"Convert this dataframe to an interactive table.\"\n",
              "            style=\"display:none;\">\n",
              "\n",
              "  <svg xmlns=\"http://www.w3.org/2000/svg\" height=\"24px\" viewBox=\"0 -960 960 960\">\n",
              "    <path d=\"M120-120v-720h720v720H120Zm60-500h600v-160H180v160Zm220 220h160v-160H400v160Zm0 220h160v-160H400v160ZM180-400h160v-160H180v160Zm440 0h160v-160H620v160ZM180-180h160v-160H180v160Zm440 0h160v-160H620v160Z\"/>\n",
              "  </svg>\n",
              "    </button>\n",
              "\n",
              "  <style>\n",
              "    .colab-df-container {\n",
              "      display:flex;\n",
              "      gap: 12px;\n",
              "    }\n",
              "\n",
              "    .colab-df-convert {\n",
              "      background-color: #E8F0FE;\n",
              "      border: none;\n",
              "      border-radius: 50%;\n",
              "      cursor: pointer;\n",
              "      display: none;\n",
              "      fill: #1967D2;\n",
              "      height: 32px;\n",
              "      padding: 0 0 0 0;\n",
              "      width: 32px;\n",
              "    }\n",
              "\n",
              "    .colab-df-convert:hover {\n",
              "      background-color: #E2EBFA;\n",
              "      box-shadow: 0px 1px 2px rgba(60, 64, 67, 0.3), 0px 1px 3px 1px rgba(60, 64, 67, 0.15);\n",
              "      fill: #174EA6;\n",
              "    }\n",
              "\n",
              "    .colab-df-buttons div {\n",
              "      margin-bottom: 4px;\n",
              "    }\n",
              "\n",
              "    [theme=dark] .colab-df-convert {\n",
              "      background-color: #3B4455;\n",
              "      fill: #D2E3FC;\n",
              "    }\n",
              "\n",
              "    [theme=dark] .colab-df-convert:hover {\n",
              "      background-color: #434B5C;\n",
              "      box-shadow: 0px 1px 3px 1px rgba(0, 0, 0, 0.15);\n",
              "      filter: drop-shadow(0px 1px 2px rgba(0, 0, 0, 0.3));\n",
              "      fill: #FFFFFF;\n",
              "    }\n",
              "  </style>\n",
              "\n",
              "    <script>\n",
              "      const buttonEl =\n",
              "        document.querySelector('#df-1ab17cac-88be-4f31-9174-7836c74bfcdd button.colab-df-convert');\n",
              "      buttonEl.style.display =\n",
              "        google.colab.kernel.accessAllowed ? 'block' : 'none';\n",
              "\n",
              "      async function convertToInteractive(key) {\n",
              "        const element = document.querySelector('#df-1ab17cac-88be-4f31-9174-7836c74bfcdd');\n",
              "        const dataTable =\n",
              "          await google.colab.kernel.invokeFunction('convertToInteractive',\n",
              "                                                    [key], {});\n",
              "        if (!dataTable) return;\n",
              "\n",
              "        const docLinkHtml = 'Like what you see? Visit the ' +\n",
              "          '<a target=\"_blank\" href=https://colab.research.google.com/notebooks/data_table.ipynb>data table notebook</a>'\n",
              "          + ' to learn more about interactive tables.';\n",
              "        element.innerHTML = '';\n",
              "        dataTable['output_type'] = 'display_data';\n",
              "        await google.colab.output.renderOutput(dataTable, element);\n",
              "        const docLink = document.createElement('div');\n",
              "        docLink.innerHTML = docLinkHtml;\n",
              "        element.appendChild(docLink);\n",
              "      }\n",
              "    </script>\n",
              "  </div>\n",
              "\n",
              "\n",
              "<div id=\"df-4362f749-8f6c-48fd-8d26-95464f4c33c3\">\n",
              "  <button class=\"colab-df-quickchart\" onclick=\"quickchart('df-4362f749-8f6c-48fd-8d26-95464f4c33c3')\"\n",
              "            title=\"Suggest charts\"\n",
              "            style=\"display:none;\">\n",
              "\n",
              "<svg xmlns=\"http://www.w3.org/2000/svg\" height=\"24px\"viewBox=\"0 0 24 24\"\n",
              "     width=\"24px\">\n",
              "    <g>\n",
              "        <path d=\"M19 3H5c-1.1 0-2 .9-2 2v14c0 1.1.9 2 2 2h14c1.1 0 2-.9 2-2V5c0-1.1-.9-2-2-2zM9 17H7v-7h2v7zm4 0h-2V7h2v10zm4 0h-2v-4h2v4z\"/>\n",
              "    </g>\n",
              "</svg>\n",
              "  </button>\n",
              "\n",
              "<style>\n",
              "  .colab-df-quickchart {\n",
              "      --bg-color: #E8F0FE;\n",
              "      --fill-color: #1967D2;\n",
              "      --hover-bg-color: #E2EBFA;\n",
              "      --hover-fill-color: #174EA6;\n",
              "      --disabled-fill-color: #AAA;\n",
              "      --disabled-bg-color: #DDD;\n",
              "  }\n",
              "\n",
              "  [theme=dark] .colab-df-quickchart {\n",
              "      --bg-color: #3B4455;\n",
              "      --fill-color: #D2E3FC;\n",
              "      --hover-bg-color: #434B5C;\n",
              "      --hover-fill-color: #FFFFFF;\n",
              "      --disabled-bg-color: #3B4455;\n",
              "      --disabled-fill-color: #666;\n",
              "  }\n",
              "\n",
              "  .colab-df-quickchart {\n",
              "    background-color: var(--bg-color);\n",
              "    border: none;\n",
              "    border-radius: 50%;\n",
              "    cursor: pointer;\n",
              "    display: none;\n",
              "    fill: var(--fill-color);\n",
              "    height: 32px;\n",
              "    padding: 0;\n",
              "    width: 32px;\n",
              "  }\n",
              "\n",
              "  .colab-df-quickchart:hover {\n",
              "    background-color: var(--hover-bg-color);\n",
              "    box-shadow: 0 1px 2px rgba(60, 64, 67, 0.3), 0 1px 3px 1px rgba(60, 64, 67, 0.15);\n",
              "    fill: var(--button-hover-fill-color);\n",
              "  }\n",
              "\n",
              "  .colab-df-quickchart-complete:disabled,\n",
              "  .colab-df-quickchart-complete:disabled:hover {\n",
              "    background-color: var(--disabled-bg-color);\n",
              "    fill: var(--disabled-fill-color);\n",
              "    box-shadow: none;\n",
              "  }\n",
              "\n",
              "  .colab-df-spinner {\n",
              "    border: 2px solid var(--fill-color);\n",
              "    border-color: transparent;\n",
              "    border-bottom-color: var(--fill-color);\n",
              "    animation:\n",
              "      spin 1s steps(1) infinite;\n",
              "  }\n",
              "\n",
              "  @keyframes spin {\n",
              "    0% {\n",
              "      border-color: transparent;\n",
              "      border-bottom-color: var(--fill-color);\n",
              "      border-left-color: var(--fill-color);\n",
              "    }\n",
              "    20% {\n",
              "      border-color: transparent;\n",
              "      border-left-color: var(--fill-color);\n",
              "      border-top-color: var(--fill-color);\n",
              "    }\n",
              "    30% {\n",
              "      border-color: transparent;\n",
              "      border-left-color: var(--fill-color);\n",
              "      border-top-color: var(--fill-color);\n",
              "      border-right-color: var(--fill-color);\n",
              "    }\n",
              "    40% {\n",
              "      border-color: transparent;\n",
              "      border-right-color: var(--fill-color);\n",
              "      border-top-color: var(--fill-color);\n",
              "    }\n",
              "    60% {\n",
              "      border-color: transparent;\n",
              "      border-right-color: var(--fill-color);\n",
              "    }\n",
              "    80% {\n",
              "      border-color: transparent;\n",
              "      border-right-color: var(--fill-color);\n",
              "      border-bottom-color: var(--fill-color);\n",
              "    }\n",
              "    90% {\n",
              "      border-color: transparent;\n",
              "      border-bottom-color: var(--fill-color);\n",
              "    }\n",
              "  }\n",
              "</style>\n",
              "\n",
              "  <script>\n",
              "    async function quickchart(key) {\n",
              "      const quickchartButtonEl =\n",
              "        document.querySelector('#' + key + ' button');\n",
              "      quickchartButtonEl.disabled = true;  // To prevent multiple clicks.\n",
              "      quickchartButtonEl.classList.add('colab-df-spinner');\n",
              "      try {\n",
              "        const charts = await google.colab.kernel.invokeFunction(\n",
              "            'suggestCharts', [key], {});\n",
              "      } catch (error) {\n",
              "        console.error('Error during call to suggestCharts:', error);\n",
              "      }\n",
              "      quickchartButtonEl.classList.remove('colab-df-spinner');\n",
              "      quickchartButtonEl.classList.add('colab-df-quickchart-complete');\n",
              "    }\n",
              "    (() => {\n",
              "      let quickchartButtonEl =\n",
              "        document.querySelector('#df-4362f749-8f6c-48fd-8d26-95464f4c33c3 button');\n",
              "      quickchartButtonEl.style.display =\n",
              "        google.colab.kernel.accessAllowed ? 'block' : 'none';\n",
              "    })();\n",
              "  </script>\n",
              "</div>\n",
              "\n",
              "    </div>\n",
              "  </div>\n"
            ],
            "text/plain": [
              "                                                   target  ids  date  flag  \\\n",
              "45653   there was need invoke nehruits achievement spa...    0   NaN   NaN   \n",
              "83970           badhaai mocks having completed 100 scams     0   NaN   NaN   \n",
              "25671   much anticipated book now available amazon and...    1   NaN   NaN   \n",
              "93136   yeddyurappas diary rs1800 crores given modis b...    1   NaN   NaN   \n",
              "141739  only congress and terrorists are not happy say... -1.0   NaN   NaN   \n",
              "\n",
              "        user  text  \n",
              "45653    NaN   NaN  \n",
              "83970    NaN   NaN  \n",
              "25671    NaN   NaN  \n",
              "93136    NaN   NaN  \n",
              "141739   NaN   NaN  "
            ]
          },
          "execution_count": 235,
          "metadata": {},
          "output_type": "execute_result"
        },
        {
          "name": "stdout",
          "output_type": "stream",
          "text": [
            "time: 491 ms (started: 2024-03-05 16:47:52 +00:00)\n"
          ]
        }
      ],
      "source": [
        "# Importing the dataset\n",
        "DATASET_COLUMNS=['target','ids','date','flag','user','text']\n",
        "DATASET_ENCODING = \"ISO-8859-1\"\n",
        "df = pd.read_csv('/content/Twitter_Data.csv', encoding=DATASET_ENCODING, names=DATASET_COLUMNS)\n",
        "df.sample(5)"
      ]
    },
    {
      "cell_type": "code",
      "execution_count": null,
      "metadata": {
        "colab": {
          "base_uri": "https://localhost:8080/",
          "height": 225
        },
        "id": "h1sxfR9HJlpW",
        "outputId": "519cedf1-49c6-436e-f145-c0a576bf704b"
      },
      "outputs": [
        {
          "data": {
            "application/vnd.google.colaboratory.intrinsic+json": {
              "type": "dataframe",
              "variable_name": "df"
            },
            "text/html": [
              "\n",
              "  <div id=\"df-a1a630d4-a7fc-4941-9bce-6c587c93cbb2\" class=\"colab-df-container\">\n",
              "    <div>\n",
              "<style scoped>\n",
              "    .dataframe tbody tr th:only-of-type {\n",
              "        vertical-align: middle;\n",
              "    }\n",
              "\n",
              "    .dataframe tbody tr th {\n",
              "        vertical-align: top;\n",
              "    }\n",
              "\n",
              "    .dataframe thead th {\n",
              "        text-align: right;\n",
              "    }\n",
              "</style>\n",
              "<table border=\"1\" class=\"dataframe\">\n",
              "  <thead>\n",
              "    <tr style=\"text-align: right;\">\n",
              "      <th></th>\n",
              "      <th>target</th>\n",
              "      <th>ids</th>\n",
              "      <th>date</th>\n",
              "      <th>flag</th>\n",
              "      <th>user</th>\n",
              "      <th>text</th>\n",
              "    </tr>\n",
              "  </thead>\n",
              "  <tbody>\n",
              "    <tr>\n",
              "      <th>0</th>\n",
              "      <td>clean_text</td>\n",
              "      <td>category</td>\n",
              "      <td>NaN</td>\n",
              "      <td>NaN</td>\n",
              "      <td>NaN</td>\n",
              "      <td>NaN</td>\n",
              "    </tr>\n",
              "    <tr>\n",
              "      <th>1</th>\n",
              "      <td>when modi promised âminimum government maxim...</td>\n",
              "      <td>-1</td>\n",
              "      <td>NaN</td>\n",
              "      <td>NaN</td>\n",
              "      <td>NaN</td>\n",
              "      <td>NaN</td>\n",
              "    </tr>\n",
              "    <tr>\n",
              "      <th>2</th>\n",
              "      <td>talk all the nonsense and continue all the dra...</td>\n",
              "      <td>0</td>\n",
              "      <td>NaN</td>\n",
              "      <td>NaN</td>\n",
              "      <td>NaN</td>\n",
              "      <td>NaN</td>\n",
              "    </tr>\n",
              "    <tr>\n",
              "      <th>3</th>\n",
              "      <td>what did just say vote for modi  welcome bjp t...</td>\n",
              "      <td>1</td>\n",
              "      <td>NaN</td>\n",
              "      <td>NaN</td>\n",
              "      <td>NaN</td>\n",
              "      <td>NaN</td>\n",
              "    </tr>\n",
              "    <tr>\n",
              "      <th>4</th>\n",
              "      <td>asking his supporters prefix chowkidar their n...</td>\n",
              "      <td>1</td>\n",
              "      <td>NaN</td>\n",
              "      <td>NaN</td>\n",
              "      <td>NaN</td>\n",
              "      <td>NaN</td>\n",
              "    </tr>\n",
              "  </tbody>\n",
              "</table>\n",
              "</div>\n",
              "    <div class=\"colab-df-buttons\">\n",
              "\n",
              "  <div class=\"colab-df-container\">\n",
              "    <button class=\"colab-df-convert\" onclick=\"convertToInteractive('df-a1a630d4-a7fc-4941-9bce-6c587c93cbb2')\"\n",
              "            title=\"Convert this dataframe to an interactive table.\"\n",
              "            style=\"display:none;\">\n",
              "\n",
              "  <svg xmlns=\"http://www.w3.org/2000/svg\" height=\"24px\" viewBox=\"0 -960 960 960\">\n",
              "    <path d=\"M120-120v-720h720v720H120Zm60-500h600v-160H180v160Zm220 220h160v-160H400v160Zm0 220h160v-160H400v160ZM180-400h160v-160H180v160Zm440 0h160v-160H620v160ZM180-180h160v-160H180v160Zm440 0h160v-160H620v160Z\"/>\n",
              "  </svg>\n",
              "    </button>\n",
              "\n",
              "  <style>\n",
              "    .colab-df-container {\n",
              "      display:flex;\n",
              "      gap: 12px;\n",
              "    }\n",
              "\n",
              "    .colab-df-convert {\n",
              "      background-color: #E8F0FE;\n",
              "      border: none;\n",
              "      border-radius: 50%;\n",
              "      cursor: pointer;\n",
              "      display: none;\n",
              "      fill: #1967D2;\n",
              "      height: 32px;\n",
              "      padding: 0 0 0 0;\n",
              "      width: 32px;\n",
              "    }\n",
              "\n",
              "    .colab-df-convert:hover {\n",
              "      background-color: #E2EBFA;\n",
              "      box-shadow: 0px 1px 2px rgba(60, 64, 67, 0.3), 0px 1px 3px 1px rgba(60, 64, 67, 0.15);\n",
              "      fill: #174EA6;\n",
              "    }\n",
              "\n",
              "    .colab-df-buttons div {\n",
              "      margin-bottom: 4px;\n",
              "    }\n",
              "\n",
              "    [theme=dark] .colab-df-convert {\n",
              "      background-color: #3B4455;\n",
              "      fill: #D2E3FC;\n",
              "    }\n",
              "\n",
              "    [theme=dark] .colab-df-convert:hover {\n",
              "      background-color: #434B5C;\n",
              "      box-shadow: 0px 1px 3px 1px rgba(0, 0, 0, 0.15);\n",
              "      filter: drop-shadow(0px 1px 2px rgba(0, 0, 0, 0.3));\n",
              "      fill: #FFFFFF;\n",
              "    }\n",
              "  </style>\n",
              "\n",
              "    <script>\n",
              "      const buttonEl =\n",
              "        document.querySelector('#df-a1a630d4-a7fc-4941-9bce-6c587c93cbb2 button.colab-df-convert');\n",
              "      buttonEl.style.display =\n",
              "        google.colab.kernel.accessAllowed ? 'block' : 'none';\n",
              "\n",
              "      async function convertToInteractive(key) {\n",
              "        const element = document.querySelector('#df-a1a630d4-a7fc-4941-9bce-6c587c93cbb2');\n",
              "        const dataTable =\n",
              "          await google.colab.kernel.invokeFunction('convertToInteractive',\n",
              "                                                    [key], {});\n",
              "        if (!dataTable) return;\n",
              "\n",
              "        const docLinkHtml = 'Like what you see? Visit the ' +\n",
              "          '<a target=\"_blank\" href=https://colab.research.google.com/notebooks/data_table.ipynb>data table notebook</a>'\n",
              "          + ' to learn more about interactive tables.';\n",
              "        element.innerHTML = '';\n",
              "        dataTable['output_type'] = 'display_data';\n",
              "        await google.colab.output.renderOutput(dataTable, element);\n",
              "        const docLink = document.createElement('div');\n",
              "        docLink.innerHTML = docLinkHtml;\n",
              "        element.appendChild(docLink);\n",
              "      }\n",
              "    </script>\n",
              "  </div>\n",
              "\n",
              "\n",
              "<div id=\"df-d149e7a5-7a64-478f-9a3e-5c2b0d154db1\">\n",
              "  <button class=\"colab-df-quickchart\" onclick=\"quickchart('df-d149e7a5-7a64-478f-9a3e-5c2b0d154db1')\"\n",
              "            title=\"Suggest charts\"\n",
              "            style=\"display:none;\">\n",
              "\n",
              "<svg xmlns=\"http://www.w3.org/2000/svg\" height=\"24px\"viewBox=\"0 0 24 24\"\n",
              "     width=\"24px\">\n",
              "    <g>\n",
              "        <path d=\"M19 3H5c-1.1 0-2 .9-2 2v14c0 1.1.9 2 2 2h14c1.1 0 2-.9 2-2V5c0-1.1-.9-2-2-2zM9 17H7v-7h2v7zm4 0h-2V7h2v10zm4 0h-2v-4h2v4z\"/>\n",
              "    </g>\n",
              "</svg>\n",
              "  </button>\n",
              "\n",
              "<style>\n",
              "  .colab-df-quickchart {\n",
              "      --bg-color: #E8F0FE;\n",
              "      --fill-color: #1967D2;\n",
              "      --hover-bg-color: #E2EBFA;\n",
              "      --hover-fill-color: #174EA6;\n",
              "      --disabled-fill-color: #AAA;\n",
              "      --disabled-bg-color: #DDD;\n",
              "  }\n",
              "\n",
              "  [theme=dark] .colab-df-quickchart {\n",
              "      --bg-color: #3B4455;\n",
              "      --fill-color: #D2E3FC;\n",
              "      --hover-bg-color: #434B5C;\n",
              "      --hover-fill-color: #FFFFFF;\n",
              "      --disabled-bg-color: #3B4455;\n",
              "      --disabled-fill-color: #666;\n",
              "  }\n",
              "\n",
              "  .colab-df-quickchart {\n",
              "    background-color: var(--bg-color);\n",
              "    border: none;\n",
              "    border-radius: 50%;\n",
              "    cursor: pointer;\n",
              "    display: none;\n",
              "    fill: var(--fill-color);\n",
              "    height: 32px;\n",
              "    padding: 0;\n",
              "    width: 32px;\n",
              "  }\n",
              "\n",
              "  .colab-df-quickchart:hover {\n",
              "    background-color: var(--hover-bg-color);\n",
              "    box-shadow: 0 1px 2px rgba(60, 64, 67, 0.3), 0 1px 3px 1px rgba(60, 64, 67, 0.15);\n",
              "    fill: var(--button-hover-fill-color);\n",
              "  }\n",
              "\n",
              "  .colab-df-quickchart-complete:disabled,\n",
              "  .colab-df-quickchart-complete:disabled:hover {\n",
              "    background-color: var(--disabled-bg-color);\n",
              "    fill: var(--disabled-fill-color);\n",
              "    box-shadow: none;\n",
              "  }\n",
              "\n",
              "  .colab-df-spinner {\n",
              "    border: 2px solid var(--fill-color);\n",
              "    border-color: transparent;\n",
              "    border-bottom-color: var(--fill-color);\n",
              "    animation:\n",
              "      spin 1s steps(1) infinite;\n",
              "  }\n",
              "\n",
              "  @keyframes spin {\n",
              "    0% {\n",
              "      border-color: transparent;\n",
              "      border-bottom-color: var(--fill-color);\n",
              "      border-left-color: var(--fill-color);\n",
              "    }\n",
              "    20% {\n",
              "      border-color: transparent;\n",
              "      border-left-color: var(--fill-color);\n",
              "      border-top-color: var(--fill-color);\n",
              "    }\n",
              "    30% {\n",
              "      border-color: transparent;\n",
              "      border-left-color: var(--fill-color);\n",
              "      border-top-color: var(--fill-color);\n",
              "      border-right-color: var(--fill-color);\n",
              "    }\n",
              "    40% {\n",
              "      border-color: transparent;\n",
              "      border-right-color: var(--fill-color);\n",
              "      border-top-color: var(--fill-color);\n",
              "    }\n",
              "    60% {\n",
              "      border-color: transparent;\n",
              "      border-right-color: var(--fill-color);\n",
              "    }\n",
              "    80% {\n",
              "      border-color: transparent;\n",
              "      border-right-color: var(--fill-color);\n",
              "      border-bottom-color: var(--fill-color);\n",
              "    }\n",
              "    90% {\n",
              "      border-color: transparent;\n",
              "      border-bottom-color: var(--fill-color);\n",
              "    }\n",
              "  }\n",
              "</style>\n",
              "\n",
              "  <script>\n",
              "    async function quickchart(key) {\n",
              "      const quickchartButtonEl =\n",
              "        document.querySelector('#' + key + ' button');\n",
              "      quickchartButtonEl.disabled = true;  // To prevent multiple clicks.\n",
              "      quickchartButtonEl.classList.add('colab-df-spinner');\n",
              "      try {\n",
              "        const charts = await google.colab.kernel.invokeFunction(\n",
              "            'suggestCharts', [key], {});\n",
              "      } catch (error) {\n",
              "        console.error('Error during call to suggestCharts:', error);\n",
              "      }\n",
              "      quickchartButtonEl.classList.remove('colab-df-spinner');\n",
              "      quickchartButtonEl.classList.add('colab-df-quickchart-complete');\n",
              "    }\n",
              "    (() => {\n",
              "      let quickchartButtonEl =\n",
              "        document.querySelector('#df-d149e7a5-7a64-478f-9a3e-5c2b0d154db1 button');\n",
              "      quickchartButtonEl.style.display =\n",
              "        google.colab.kernel.accessAllowed ? 'block' : 'none';\n",
              "    })();\n",
              "  </script>\n",
              "</div>\n",
              "\n",
              "    </div>\n",
              "  </div>\n"
            ],
            "text/plain": [
              "                                              target       ids  date  flag  \\\n",
              "0                                         clean_text  category   NaN   NaN   \n",
              "1  when modi promised âminimum government maxim...        -1   NaN   NaN   \n",
              "2  talk all the nonsense and continue all the dra...         0   NaN   NaN   \n",
              "3  what did just say vote for modi  welcome bjp t...         1   NaN   NaN   \n",
              "4  asking his supporters prefix chowkidar their n...         1   NaN   NaN   \n",
              "\n",
              "   user  text  \n",
              "0   NaN   NaN  \n",
              "1   NaN   NaN  \n",
              "2   NaN   NaN  \n",
              "3   NaN   NaN  \n",
              "4   NaN   NaN  "
            ]
          },
          "execution_count": 236,
          "metadata": {},
          "output_type": "execute_result"
        },
        {
          "name": "stdout",
          "output_type": "stream",
          "text": [
            "time: 13 ms (started: 2024-03-05 16:47:53 +00:00)\n"
          ]
        }
      ],
      "source": [
        "df.head()"
      ]
    },
    {
      "cell_type": "code",
      "execution_count": null,
      "metadata": {
        "colab": {
          "base_uri": "https://localhost:8080/"
        },
        "id": "Qu-f6ccVLJ6p",
        "outputId": "a4ba4f66-5242-4b03-87dd-4ac82a5dd118"
      },
      "outputs": [
        {
          "data": {
            "text/plain": [
              "Index(['target', 'ids', 'date', 'flag', 'user', 'text'], dtype='object')"
            ]
          },
          "execution_count": 237,
          "metadata": {},
          "output_type": "execute_result"
        },
        {
          "name": "stdout",
          "output_type": "stream",
          "text": [
            "time: 4.22 ms (started: 2024-03-05 16:47:53 +00:00)\n"
          ]
        }
      ],
      "source": [
        "df.columns"
      ]
    },
    {
      "cell_type": "code",
      "execution_count": null,
      "metadata": {
        "colab": {
          "base_uri": "https://localhost:8080/"
        },
        "id": "Blvaa_nKLKBP",
        "outputId": "169ac377-de0b-44ea-ca50-da7e814a3769"
      },
      "outputs": [
        {
          "name": "stdout",
          "output_type": "stream",
          "text": [
            "length of data is 162981\n",
            "time: 2.02 ms (started: 2024-03-05 16:47:53 +00:00)\n"
          ]
        }
      ],
      "source": [
        "print('length of data is', len(df))"
      ]
    },
    {
      "cell_type": "code",
      "execution_count": null,
      "metadata": {
        "colab": {
          "base_uri": "https://localhost:8080/"
        },
        "id": "B6DbaTzRLpyN",
        "outputId": "51ec65bf-3c09-47e5-ee9c-27e7f932d25b"
      },
      "outputs": [
        {
          "data": {
            "text/plain": [
              "(162981, 6)"
            ]
          },
          "execution_count": 239,
          "metadata": {},
          "output_type": "execute_result"
        },
        {
          "name": "stdout",
          "output_type": "stream",
          "text": [
            "time: 4.3 ms (started: 2024-03-05 16:47:53 +00:00)\n"
          ]
        }
      ],
      "source": [
        "df. shape"
      ]
    },
    {
      "cell_type": "code",
      "execution_count": null,
      "metadata": {
        "colab": {
          "base_uri": "https://localhost:8080/"
        },
        "id": "-ST80WbfLp1V",
        "outputId": "5f26bc35-d4d1-4e04-fa81-d6bbdda08fd5"
      },
      "outputs": [
        {
          "name": "stdout",
          "output_type": "stream",
          "text": [
            "<class 'pandas.core.frame.DataFrame'>\n",
            "RangeIndex: 162981 entries, 0 to 162980\n",
            "Data columns (total 6 columns):\n",
            " #   Column  Non-Null Count   Dtype  \n",
            "---  ------  --------------   -----  \n",
            " 0   target  162977 non-null  object \n",
            " 1   ids     162974 non-null  object \n",
            " 2   date    0 non-null       float64\n",
            " 3   flag    0 non-null       float64\n",
            " 4   user    0 non-null       float64\n",
            " 5   text    0 non-null       float64\n",
            "dtypes: float64(4), object(2)\n",
            "memory usage: 7.5+ MB\n",
            "time: 72.8 ms (started: 2024-03-05 16:47:53 +00:00)\n"
          ]
        }
      ],
      "source": [
        "df.info()"
      ]
    },
    {
      "cell_type": "code",
      "execution_count": null,
      "metadata": {
        "colab": {
          "base_uri": "https://localhost:8080/"
        },
        "id": "dA7cSQA7LzGu",
        "outputId": "9744a9de-7779-4982-a4e3-76e1f589546c"
      },
      "outputs": [
        {
          "data": {
            "text/plain": [
              "target     object\n",
              "ids        object\n",
              "date      float64\n",
              "flag      float64\n",
              "user      float64\n",
              "text      float64\n",
              "dtype: object"
            ]
          },
          "execution_count": 241,
          "metadata": {},
          "output_type": "execute_result"
        },
        {
          "name": "stdout",
          "output_type": "stream",
          "text": [
            "time: 5.28 ms (started: 2024-03-05 16:47:53 +00:00)\n"
          ]
        }
      ],
      "source": [
        "df.dtypes"
      ]
    },
    {
      "cell_type": "code",
      "execution_count": null,
      "metadata": {
        "colab": {
          "base_uri": "https://localhost:8080/"
        },
        "id": "lcxlQZe2Lz8e",
        "outputId": "7799887c-3686-4b3f-adf9-ffa961519bfe"
      },
      "outputs": [
        {
          "data": {
            "text/plain": [
              "162981"
            ]
          },
          "execution_count": 242,
          "metadata": {},
          "output_type": "execute_result"
        },
        {
          "name": "stdout",
          "output_type": "stream",
          "text": [
            "time: 76.7 ms (started: 2024-03-05 16:47:53 +00:00)\n"
          ]
        }
      ],
      "source": [
        "np.sum(df.isnull().any(axis=1))"
      ]
    },
    {
      "cell_type": "code",
      "execution_count": null,
      "metadata": {
        "colab": {
          "base_uri": "https://localhost:8080/"
        },
        "id": "t87kmpq0L0Ap",
        "outputId": "c74723b8-6534-4050-c015-6d8feecd5c8f"
      },
      "outputs": [
        {
          "name": "stdout",
          "output_type": "stream",
          "text": [
            "Count of columns in the data is:   6\n",
            "Count of rows in the data is:   162981\n",
            "time: 844 µs (started: 2024-03-05 16:47:53 +00:00)\n"
          ]
        }
      ],
      "source": [
        "print('Count of columns in the data is:  ', len(df.columns))\n",
        "print('Count of rows in the data is:  ', len(df))"
      ]
    },
    {
      "cell_type": "code",
      "execution_count": null,
      "metadata": {
        "colab": {
          "base_uri": "https://localhost:8080/"
        },
        "id": "maZlOB4WL0EZ",
        "outputId": "9092c57d-5df0-4fa0-c326-eb4edf571fe4"
      },
      "outputs": [
        {
          "data": {
            "text/plain": [
              "array(['clean_text',\n",
              "       'when modi promised â\\x80\\x9cminimum government maximum governanceâ\\x80\\x9d expected him begin the difficult job reforming the state why does take years get justice state should and not business and should exit psus and temples',\n",
              "       'talk all the nonsense and continue all the drama will vote for modi ',\n",
              "       ..., 'did you cover her interaction forum where she left ',\n",
              "       'there big project came into india modi dream project but not happened reality',\n",
              "       'have you ever listen about like gurukul where discipline are maintained even narendra modi rss only maintaining the culture indian more attack politics but someone attack hinduism rss will take action that proud for '],\n",
              "      dtype=object)"
            ]
          },
          "execution_count": 244,
          "metadata": {},
          "output_type": "execute_result"
        },
        {
          "name": "stdout",
          "output_type": "stream",
          "text": [
            "time: 79 ms (started: 2024-03-05 16:47:53 +00:00)\n"
          ]
        }
      ],
      "source": [
        "df['target'].unique()"
      ]
    },
    {
      "cell_type": "code",
      "execution_count": null,
      "metadata": {
        "colab": {
          "base_uri": "https://localhost:8080/"
        },
        "id": "Xh9RVzdvL0Ht",
        "outputId": "92f5c776-2306-4fb6-d998-45353e665ea5"
      },
      "outputs": [
        {
          "data": {
            "text/plain": [
              "162977"
            ]
          },
          "execution_count": 245,
          "metadata": {},
          "output_type": "execute_result"
        },
        {
          "name": "stdout",
          "output_type": "stream",
          "text": [
            "time: 80.1 ms (started: 2024-03-05 16:47:53 +00:00)\n"
          ]
        }
      ],
      "source": [
        "df['target'].nunique()"
      ]
    },
    {
      "cell_type": "code",
      "execution_count": null,
      "metadata": {
        "colab": {
          "base_uri": "https://localhost:8080/"
        },
        "id": "X6F8FFET7cRr",
        "outputId": "62beb5c7-8ad9-46b5-cbc0-737d8143c66d"
      },
      "outputs": [
        {
          "name": "stdout",
          "output_type": "stream",
          "text": [
            "Requirement already satisfied: pandas in /usr/local/lib/python3.10/dist-packages (1.5.3)\n",
            "Requirement already satisfied: python-dateutil>=2.8.1 in /usr/local/lib/python3.10/dist-packages (from pandas) (2.8.2)\n",
            "Requirement already satisfied: pytz>=2020.1 in /usr/local/lib/python3.10/dist-packages (from pandas) (2023.4)\n",
            "Requirement already satisfied: numpy>=1.21.0 in /usr/local/lib/python3.10/dist-packages (from pandas) (1.25.2)\n",
            "Requirement already satisfied: six>=1.5 in /usr/local/lib/python3.10/dist-packages (from python-dateutil>=2.8.1->pandas) (1.16.0)\n",
            "time: 6.13 s (started: 2024-03-05 16:47:53 +00:00)\n"
          ]
        }
      ],
      "source": [
        "!pip install pandas"
      ]
    },
    {
      "cell_type": "code",
      "execution_count": null,
      "metadata": {
        "colab": {
          "base_uri": "https://localhost:8080/"
        },
        "id": "8BarwrZnYTq9",
        "outputId": "a809062a-5434-4daa-b3f7-980cca86930f"
      },
      "outputs": [
        {
          "name": "stdout",
          "output_type": "stream",
          "text": [
            "time: 626 µs (started: 2024-03-05 16:47:59 +00:00)\n"
          ]
        }
      ],
      "source": [
        "import pandas as pd\n",
        "\n",
        "import matplotlib.pyplot as plt"
      ]
    },
    {
      "cell_type": "code",
      "execution_count": null,
      "metadata": {
        "colab": {
          "base_uri": "https://localhost:8080/"
        },
        "id": "cIU0HmEHyHX1",
        "outputId": "1b769f42-f25a-4298-91f6-e8a43fbefe1a"
      },
      "outputs": [
        {
          "name": "stdout",
          "output_type": "stream",
          "text": [
            "Requirement already satisfied: chardet in /usr/local/lib/python3.10/dist-packages (5.2.0)\n",
            "time: 6.84 s (started: 2024-03-05 16:47:59 +00:00)\n"
          ]
        }
      ],
      "source": [
        "!pip install chardet"
      ]
    },
    {
      "cell_type": "code",
      "execution_count": null,
      "metadata": {
        "colab": {
          "base_uri": "https://localhost:8080/"
        },
        "id": "PD4DYdiKyHTB",
        "outputId": "5d1694b5-70f1-4827-873b-91e9bc936ec9"
      },
      "outputs": [
        {
          "name": "stdout",
          "output_type": "stream",
          "text": [
            "time: 530 µs (started: 2024-03-05 16:48:06 +00:00)\n"
          ]
        }
      ],
      "source": [
        "import chardet"
      ]
    },
    {
      "cell_type": "code",
      "execution_count": null,
      "metadata": {
        "colab": {
          "base_uri": "https://localhost:8080/"
        },
        "id": "sfJEM7GwyHN1",
        "outputId": "461fd2e3-fcfc-4ace-d93a-706db88b20cc"
      },
      "outputs": [
        {
          "name": "stdout",
          "output_type": "stream",
          "text": [
            "time: 38.4 s (started: 2024-03-05 16:48:06 +00:00)\n"
          ]
        }
      ],
      "source": [
        "with open(\"/content/Twitter_Data.csv\", \"rb\") as f:\n",
        "    encoding = chardet.detect(f.read())[\"encoding\"]"
      ]
    },
    {
      "cell_type": "code",
      "execution_count": null,
      "metadata": {
        "colab": {
          "base_uri": "https://localhost:8080/"
        },
        "id": "N9pKEk_FwtRx",
        "outputId": "8827a6d9-ddb0-48fe-ddd7-79390c8138fd"
      },
      "outputs": [
        {
          "data": {
            "text/plain": [
              "clean_text                                                                                                                                                                                                                               1\n",
              "according assam bjp candidate palab lushan das above years age india should get retired from politics also according him modi also takes retired and added that young generation should come for works                                   1\n",
              "lok sabha election 2019 live modi has ignored his own constituency varanasi says priyanka gandhi                                                                                                                                         1\n",
              "arnab asks modi about opposition saying asat announcement was violation poll code modi says that government can power can make mistakes but congress who has been power for long time should have considered these allegations           1\n",
              "mrintelligent was claiming that they have attached more than what its worth was courts were deterrent now modi announced its easy substantiate for him now court law and get his properties above 9000 released                          1\n",
              "                                                                                                                                                                                                                                        ..\n",
              "modi destroying india for personal benefit                                                                                                                                                                                               1\n",
              "sreeniwho announced buddha laughing nuclear testjust for sake dont frowl before knowing the achievementthis not achievement modiits nations achievementmake your heart bit enlarged                                                      1\n",
              "modi thunders indiaâ entry into indiaâ space club raga calls âhappy theatreÂ dayâ                                                                                                                                                1\n",
              "back basics jobs\\nfarmers\\nsmall businesses\\ngst reform\\neducation\\nhealth\\nenvironment\\nwater\\ninfrastructure\\ninvestment revival national security indiaâ armed forces are handling that donâ worry space narendra modi thanks     1\n",
              "have you ever listen about like gurukul where discipline are maintained even narendra modi rss only maintaining the culture indian more attack politics but someone attack hinduism rss will take action that proud for                  1\n",
              "Name: target, Length: 162977, dtype: int64"
            ]
          },
          "execution_count": 251,
          "metadata": {},
          "output_type": "execute_result"
        },
        {
          "name": "stdout",
          "output_type": "stream",
          "text": [
            "time: 180 ms (started: 2024-03-05 16:48:45 +00:00)\n"
          ]
        }
      ],
      "source": [
        "df['target'].value_counts()"
      ]
    },
    {
      "cell_type": "code",
      "execution_count": null,
      "metadata": {
        "colab": {
          "base_uri": "https://localhost:8080/"
        },
        "id": "moNdUTqkYjkN",
        "outputId": "46c0bfe2-5485-468b-b49b-26116b0fb6c5"
      },
      "outputs": [
        {
          "data": {
            "text/plain": [
              "Index(['target', 'ids', 'date', 'flag', 'user', 'text'], dtype='object')"
            ]
          },
          "execution_count": 252,
          "metadata": {},
          "output_type": "execute_result"
        },
        {
          "name": "stdout",
          "output_type": "stream",
          "text": [
            "time: 3.86 ms (started: 2024-03-05 16:48:45 +00:00)\n"
          ]
        }
      ],
      "source": [
        "df.columns"
      ]
    },
    {
      "cell_type": "code",
      "execution_count": null,
      "metadata": {
        "colab": {
          "base_uri": "https://localhost:8080/"
        },
        "id": "E0AMl28GZH01",
        "outputId": "c47ecbaa-6664-46bd-a650-24042955b749"
      },
      "outputs": [
        {
          "name": "stdout",
          "output_type": "stream",
          "text": [
            "<class 'pandas.core.frame.DataFrame'>\n",
            "RangeIndex: 162981 entries, 0 to 162980\n",
            "Data columns (total 6 columns):\n",
            " #   Column  Non-Null Count   Dtype  \n",
            "---  ------  --------------   -----  \n",
            " 0   target  162977 non-null  object \n",
            " 1   ids     162974 non-null  object \n",
            " 2   date    0 non-null       float64\n",
            " 3   flag    0 non-null       float64\n",
            " 4   user    0 non-null       float64\n",
            " 5   text    0 non-null       float64\n",
            "dtypes: float64(4), object(2)\n",
            "memory usage: 7.5+ MB\n",
            "time: 67.4 ms (started: 2024-03-05 16:48:45 +00:00)\n"
          ]
        }
      ],
      "source": [
        "df.info()"
      ]
    },
    {
      "cell_type": "code",
      "execution_count": null,
      "metadata": {
        "colab": {
          "base_uri": "https://localhost:8080/",
          "height": 225
        },
        "id": "1VUwYrVDZb4-",
        "outputId": "db633b63-e76f-47ed-bc54-214eb00178ed"
      },
      "outputs": [
        {
          "data": {
            "application/vnd.google.colaboratory.intrinsic+json": {
              "type": "dataframe",
              "variable_name": "df"
            },
            "text/html": [
              "\n",
              "  <div id=\"df-ef398e50-34e2-4e09-a338-2df50472bffe\" class=\"colab-df-container\">\n",
              "    <div>\n",
              "<style scoped>\n",
              "    .dataframe tbody tr th:only-of-type {\n",
              "        vertical-align: middle;\n",
              "    }\n",
              "\n",
              "    .dataframe tbody tr th {\n",
              "        vertical-align: top;\n",
              "    }\n",
              "\n",
              "    .dataframe thead th {\n",
              "        text-align: right;\n",
              "    }\n",
              "</style>\n",
              "<table border=\"1\" class=\"dataframe\">\n",
              "  <thead>\n",
              "    <tr style=\"text-align: right;\">\n",
              "      <th></th>\n",
              "      <th>target</th>\n",
              "      <th>ids</th>\n",
              "      <th>date</th>\n",
              "      <th>flag</th>\n",
              "      <th>user</th>\n",
              "      <th>text</th>\n",
              "    </tr>\n",
              "  </thead>\n",
              "  <tbody>\n",
              "    <tr>\n",
              "      <th>0</th>\n",
              "      <td>clean_text</td>\n",
              "      <td>category</td>\n",
              "      <td>NaN</td>\n",
              "      <td>NaN</td>\n",
              "      <td>NaN</td>\n",
              "      <td>NaN</td>\n",
              "    </tr>\n",
              "    <tr>\n",
              "      <th>1</th>\n",
              "      <td>when modi promised âminimum government maxim...</td>\n",
              "      <td>-1</td>\n",
              "      <td>NaN</td>\n",
              "      <td>NaN</td>\n",
              "      <td>NaN</td>\n",
              "      <td>NaN</td>\n",
              "    </tr>\n",
              "    <tr>\n",
              "      <th>2</th>\n",
              "      <td>talk all the nonsense and continue all the dra...</td>\n",
              "      <td>0</td>\n",
              "      <td>NaN</td>\n",
              "      <td>NaN</td>\n",
              "      <td>NaN</td>\n",
              "      <td>NaN</td>\n",
              "    </tr>\n",
              "    <tr>\n",
              "      <th>3</th>\n",
              "      <td>what did just say vote for modi  welcome bjp t...</td>\n",
              "      <td>1</td>\n",
              "      <td>NaN</td>\n",
              "      <td>NaN</td>\n",
              "      <td>NaN</td>\n",
              "      <td>NaN</td>\n",
              "    </tr>\n",
              "    <tr>\n",
              "      <th>4</th>\n",
              "      <td>asking his supporters prefix chowkidar their n...</td>\n",
              "      <td>1</td>\n",
              "      <td>NaN</td>\n",
              "      <td>NaN</td>\n",
              "      <td>NaN</td>\n",
              "      <td>NaN</td>\n",
              "    </tr>\n",
              "  </tbody>\n",
              "</table>\n",
              "</div>\n",
              "    <div class=\"colab-df-buttons\">\n",
              "\n",
              "  <div class=\"colab-df-container\">\n",
              "    <button class=\"colab-df-convert\" onclick=\"convertToInteractive('df-ef398e50-34e2-4e09-a338-2df50472bffe')\"\n",
              "            title=\"Convert this dataframe to an interactive table.\"\n",
              "            style=\"display:none;\">\n",
              "\n",
              "  <svg xmlns=\"http://www.w3.org/2000/svg\" height=\"24px\" viewBox=\"0 -960 960 960\">\n",
              "    <path d=\"M120-120v-720h720v720H120Zm60-500h600v-160H180v160Zm220 220h160v-160H400v160Zm0 220h160v-160H400v160ZM180-400h160v-160H180v160Zm440 0h160v-160H620v160ZM180-180h160v-160H180v160Zm440 0h160v-160H620v160Z\"/>\n",
              "  </svg>\n",
              "    </button>\n",
              "\n",
              "  <style>\n",
              "    .colab-df-container {\n",
              "      display:flex;\n",
              "      gap: 12px;\n",
              "    }\n",
              "\n",
              "    .colab-df-convert {\n",
              "      background-color: #E8F0FE;\n",
              "      border: none;\n",
              "      border-radius: 50%;\n",
              "      cursor: pointer;\n",
              "      display: none;\n",
              "      fill: #1967D2;\n",
              "      height: 32px;\n",
              "      padding: 0 0 0 0;\n",
              "      width: 32px;\n",
              "    }\n",
              "\n",
              "    .colab-df-convert:hover {\n",
              "      background-color: #E2EBFA;\n",
              "      box-shadow: 0px 1px 2px rgba(60, 64, 67, 0.3), 0px 1px 3px 1px rgba(60, 64, 67, 0.15);\n",
              "      fill: #174EA6;\n",
              "    }\n",
              "\n",
              "    .colab-df-buttons div {\n",
              "      margin-bottom: 4px;\n",
              "    }\n",
              "\n",
              "    [theme=dark] .colab-df-convert {\n",
              "      background-color: #3B4455;\n",
              "      fill: #D2E3FC;\n",
              "    }\n",
              "\n",
              "    [theme=dark] .colab-df-convert:hover {\n",
              "      background-color: #434B5C;\n",
              "      box-shadow: 0px 1px 3px 1px rgba(0, 0, 0, 0.15);\n",
              "      filter: drop-shadow(0px 1px 2px rgba(0, 0, 0, 0.3));\n",
              "      fill: #FFFFFF;\n",
              "    }\n",
              "  </style>\n",
              "\n",
              "    <script>\n",
              "      const buttonEl =\n",
              "        document.querySelector('#df-ef398e50-34e2-4e09-a338-2df50472bffe button.colab-df-convert');\n",
              "      buttonEl.style.display =\n",
              "        google.colab.kernel.accessAllowed ? 'block' : 'none';\n",
              "\n",
              "      async function convertToInteractive(key) {\n",
              "        const element = document.querySelector('#df-ef398e50-34e2-4e09-a338-2df50472bffe');\n",
              "        const dataTable =\n",
              "          await google.colab.kernel.invokeFunction('convertToInteractive',\n",
              "                                                    [key], {});\n",
              "        if (!dataTable) return;\n",
              "\n",
              "        const docLinkHtml = 'Like what you see? Visit the ' +\n",
              "          '<a target=\"_blank\" href=https://colab.research.google.com/notebooks/data_table.ipynb>data table notebook</a>'\n",
              "          + ' to learn more about interactive tables.';\n",
              "        element.innerHTML = '';\n",
              "        dataTable['output_type'] = 'display_data';\n",
              "        await google.colab.output.renderOutput(dataTable, element);\n",
              "        const docLink = document.createElement('div');\n",
              "        docLink.innerHTML = docLinkHtml;\n",
              "        element.appendChild(docLink);\n",
              "      }\n",
              "    </script>\n",
              "  </div>\n",
              "\n",
              "\n",
              "<div id=\"df-4046c7a8-5f11-4e05-9e18-f86d6187bd8c\">\n",
              "  <button class=\"colab-df-quickchart\" onclick=\"quickchart('df-4046c7a8-5f11-4e05-9e18-f86d6187bd8c')\"\n",
              "            title=\"Suggest charts\"\n",
              "            style=\"display:none;\">\n",
              "\n",
              "<svg xmlns=\"http://www.w3.org/2000/svg\" height=\"24px\"viewBox=\"0 0 24 24\"\n",
              "     width=\"24px\">\n",
              "    <g>\n",
              "        <path d=\"M19 3H5c-1.1 0-2 .9-2 2v14c0 1.1.9 2 2 2h14c1.1 0 2-.9 2-2V5c0-1.1-.9-2-2-2zM9 17H7v-7h2v7zm4 0h-2V7h2v10zm4 0h-2v-4h2v4z\"/>\n",
              "    </g>\n",
              "</svg>\n",
              "  </button>\n",
              "\n",
              "<style>\n",
              "  .colab-df-quickchart {\n",
              "      --bg-color: #E8F0FE;\n",
              "      --fill-color: #1967D2;\n",
              "      --hover-bg-color: #E2EBFA;\n",
              "      --hover-fill-color: #174EA6;\n",
              "      --disabled-fill-color: #AAA;\n",
              "      --disabled-bg-color: #DDD;\n",
              "  }\n",
              "\n",
              "  [theme=dark] .colab-df-quickchart {\n",
              "      --bg-color: #3B4455;\n",
              "      --fill-color: #D2E3FC;\n",
              "      --hover-bg-color: #434B5C;\n",
              "      --hover-fill-color: #FFFFFF;\n",
              "      --disabled-bg-color: #3B4455;\n",
              "      --disabled-fill-color: #666;\n",
              "  }\n",
              "\n",
              "  .colab-df-quickchart {\n",
              "    background-color: var(--bg-color);\n",
              "    border: none;\n",
              "    border-radius: 50%;\n",
              "    cursor: pointer;\n",
              "    display: none;\n",
              "    fill: var(--fill-color);\n",
              "    height: 32px;\n",
              "    padding: 0;\n",
              "    width: 32px;\n",
              "  }\n",
              "\n",
              "  .colab-df-quickchart:hover {\n",
              "    background-color: var(--hover-bg-color);\n",
              "    box-shadow: 0 1px 2px rgba(60, 64, 67, 0.3), 0 1px 3px 1px rgba(60, 64, 67, 0.15);\n",
              "    fill: var(--button-hover-fill-color);\n",
              "  }\n",
              "\n",
              "  .colab-df-quickchart-complete:disabled,\n",
              "  .colab-df-quickchart-complete:disabled:hover {\n",
              "    background-color: var(--disabled-bg-color);\n",
              "    fill: var(--disabled-fill-color);\n",
              "    box-shadow: none;\n",
              "  }\n",
              "\n",
              "  .colab-df-spinner {\n",
              "    border: 2px solid var(--fill-color);\n",
              "    border-color: transparent;\n",
              "    border-bottom-color: var(--fill-color);\n",
              "    animation:\n",
              "      spin 1s steps(1) infinite;\n",
              "  }\n",
              "\n",
              "  @keyframes spin {\n",
              "    0% {\n",
              "      border-color: transparent;\n",
              "      border-bottom-color: var(--fill-color);\n",
              "      border-left-color: var(--fill-color);\n",
              "    }\n",
              "    20% {\n",
              "      border-color: transparent;\n",
              "      border-left-color: var(--fill-color);\n",
              "      border-top-color: var(--fill-color);\n",
              "    }\n",
              "    30% {\n",
              "      border-color: transparent;\n",
              "      border-left-color: var(--fill-color);\n",
              "      border-top-color: var(--fill-color);\n",
              "      border-right-color: var(--fill-color);\n",
              "    }\n",
              "    40% {\n",
              "      border-color: transparent;\n",
              "      border-right-color: var(--fill-color);\n",
              "      border-top-color: var(--fill-color);\n",
              "    }\n",
              "    60% {\n",
              "      border-color: transparent;\n",
              "      border-right-color: var(--fill-color);\n",
              "    }\n",
              "    80% {\n",
              "      border-color: transparent;\n",
              "      border-right-color: var(--fill-color);\n",
              "      border-bottom-color: var(--fill-color);\n",
              "    }\n",
              "    90% {\n",
              "      border-color: transparent;\n",
              "      border-bottom-color: var(--fill-color);\n",
              "    }\n",
              "  }\n",
              "</style>\n",
              "\n",
              "  <script>\n",
              "    async function quickchart(key) {\n",
              "      const quickchartButtonEl =\n",
              "        document.querySelector('#' + key + ' button');\n",
              "      quickchartButtonEl.disabled = true;  // To prevent multiple clicks.\n",
              "      quickchartButtonEl.classList.add('colab-df-spinner');\n",
              "      try {\n",
              "        const charts = await google.colab.kernel.invokeFunction(\n",
              "            'suggestCharts', [key], {});\n",
              "      } catch (error) {\n",
              "        console.error('Error during call to suggestCharts:', error);\n",
              "      }\n",
              "      quickchartButtonEl.classList.remove('colab-df-spinner');\n",
              "      quickchartButtonEl.classList.add('colab-df-quickchart-complete');\n",
              "    }\n",
              "    (() => {\n",
              "      let quickchartButtonEl =\n",
              "        document.querySelector('#df-4046c7a8-5f11-4e05-9e18-f86d6187bd8c button');\n",
              "      quickchartButtonEl.style.display =\n",
              "        google.colab.kernel.accessAllowed ? 'block' : 'none';\n",
              "    })();\n",
              "  </script>\n",
              "</div>\n",
              "\n",
              "    </div>\n",
              "  </div>\n"
            ],
            "text/plain": [
              "                                              target       ids  date  flag  \\\n",
              "0                                         clean_text  category   NaN   NaN   \n",
              "1  when modi promised âminimum government maxim...        -1   NaN   NaN   \n",
              "2  talk all the nonsense and continue all the dra...         0   NaN   NaN   \n",
              "3  what did just say vote for modi  welcome bjp t...         1   NaN   NaN   \n",
              "4  asking his supporters prefix chowkidar their n...         1   NaN   NaN   \n",
              "\n",
              "   user  text  \n",
              "0   NaN   NaN  \n",
              "1   NaN   NaN  \n",
              "2   NaN   NaN  \n",
              "3   NaN   NaN  \n",
              "4   NaN   NaN  "
            ]
          },
          "execution_count": 254,
          "metadata": {},
          "output_type": "execute_result"
        },
        {
          "name": "stdout",
          "output_type": "stream",
          "text": [
            "time: 10.1 ms (started: 2024-03-05 16:48:45 +00:00)\n"
          ]
        }
      ],
      "source": [
        "\n",
        "df.head()"
      ]
    },
    {
      "cell_type": "code",
      "execution_count": null,
      "metadata": {
        "colab": {
          "base_uri": "https://localhost:8080/"
        },
        "id": "GmriTtXLZgZd",
        "outputId": "fc60a8e5-f037-448e-d7c0-29ff8277ac7e"
      },
      "outputs": [
        {
          "data": {
            "text/plain": [
              "clean_text                                                                                                                                                                                                                               1\n",
              "according assam bjp candidate palab lushan das above years age india should get retired from politics also according him modi also takes retired and added that young generation should come for works                                   1\n",
              "lok sabha election 2019 live modi has ignored his own constituency varanasi says priyanka gandhi                                                                                                                                         1\n",
              "arnab asks modi about opposition saying asat announcement was violation poll code modi says that government can power can make mistakes but congress who has been power for long time should have considered these allegations           1\n",
              "mrintelligent was claiming that they have attached more than what its worth was courts were deterrent now modi announced its easy substantiate for him now court law and get his properties above 9000 released                          1\n",
              "                                                                                                                                                                                                                                        ..\n",
              "modi destroying india for personal benefit                                                                                                                                                                                               1\n",
              "sreeniwho announced buddha laughing nuclear testjust for sake dont frowl before knowing the achievementthis not achievement modiits nations achievementmake your heart bit enlarged                                                      1\n",
              "modi thunders indiaâ entry into indiaâ space club raga calls âhappy theatreÂ dayâ                                                                                                                                                1\n",
              "back basics jobs\\nfarmers\\nsmall businesses\\ngst reform\\neducation\\nhealth\\nenvironment\\nwater\\ninfrastructure\\ninvestment revival national security indiaâ armed forces are handling that donâ worry space narendra modi thanks     1\n",
              "have you ever listen about like gurukul where discipline are maintained even narendra modi rss only maintaining the culture indian more attack politics but someone attack hinduism rss will take action that proud for                  1\n",
              "Name: target, Length: 162977, dtype: int64"
            ]
          },
          "execution_count": 255,
          "metadata": {},
          "output_type": "execute_result"
        },
        {
          "name": "stdout",
          "output_type": "stream",
          "text": [
            "time: 182 ms (started: 2024-03-05 16:48:45 +00:00)\n"
          ]
        }
      ],
      "source": [
        "df['target'].value_counts()"
      ]
    },
    {
      "cell_type": "code",
      "execution_count": null,
      "metadata": {
        "colab": {
          "base_uri": "https://localhost:8080/"
        },
        "id": "xlI4eJofZH5u",
        "outputId": "64dbf0cc-983a-47ca-fa1e-f984f074f613"
      },
      "outputs": [
        {
          "name": "stdout",
          "output_type": "stream",
          "text": [
            "time: 650 µs (started: 2024-03-05 16:48:45 +00:00)\n"
          ]
        }
      ],
      "source": [
        "if 'target' not in df.columns:\n",
        "    df['target'] = None"
      ]
    },
    {
      "cell_type": "code",
      "execution_count": null,
      "metadata": {
        "colab": {
          "base_uri": "https://localhost:8080/"
        },
        "id": "q_C67e1rYwKB",
        "outputId": "0f9171a5-1a90-44b9-ebb1-396e66569672"
      },
      "outputs": [
        {
          "name": "stdout",
          "output_type": "stream",
          "text": [
            "time: 633 µs (started: 2024-03-05 16:48:45 +00:00)\n"
          ]
        }
      ],
      "source": [
        "if 'target' not in df.columns:\n",
        "    raise KeyError('The \"target\" column does not exist in the dataframe.')"
      ]
    },
    {
      "cell_type": "code",
      "execution_count": null,
      "metadata": {
        "colab": {
          "base_uri": "https://localhost:8080/"
        },
        "id": "cHJMOpOz8OYk",
        "outputId": "6c08dfed-d7f5-4421-905a-bbd505dc0836"
      },
      "outputs": [
        {
          "name": "stdout",
          "output_type": "stream",
          "text": [
            "time: 483 µs (started: 2024-03-05 16:48:45 +00:00)\n"
          ]
        }
      ],
      "source": [
        "import pandas as pd"
      ]
    },
    {
      "cell_type": "code",
      "execution_count": null,
      "metadata": {
        "colab": {
          "base_uri": "https://localhost:8080/"
        },
        "id": "smsssL0B8et8",
        "outputId": "e5830b7d-fbe8-4b94-d304-29f75965a3dd"
      },
      "outputs": [
        {
          "name": "stdout",
          "output_type": "stream",
          "text": [
            "/content/Twitter_Data.csv: text/csv; charset=utf-8\n",
            "time: 108 ms (started: 2024-03-05 16:48:45 +00:00)\n"
          ]
        }
      ],
      "source": [
        "!file -i \"/content/Twitter_Data.csv\""
      ]
    },
    {
      "cell_type": "code",
      "execution_count": null,
      "metadata": {
        "colab": {
          "base_uri": "https://localhost:8080/"
        },
        "id": "cRsV6ZPF8epH",
        "outputId": "19993b91-63c1-417e-a6df-e8146f5f69b6"
      },
      "outputs": [
        {
          "name": "stdout",
          "output_type": "stream",
          "text": [
            "time: 378 ms (started: 2024-03-05 16:48:45 +00:00)\n"
          ]
        }
      ],
      "source": [
        "df = pd.read_csv(\"/content/Twitter_Data.csv\", encoding=\"latin-1\")"
      ]
    },
    {
      "cell_type": "code",
      "execution_count": null,
      "metadata": {
        "colab": {
          "base_uri": "https://localhost:8080/"
        },
        "id": "j3QkzrIR8jfU",
        "outputId": "ffde7188-bb11-4ccf-a85b-175128ea166b"
      },
      "outputs": [
        {
          "name": "stdout",
          "output_type": "stream",
          "text": [
            "Requirement already satisfied: chardet in /usr/local/lib/python3.10/dist-packages (5.2.0)\n",
            "time: 6.44 s (started: 2024-03-05 16:48:46 +00:00)\n"
          ]
        }
      ],
      "source": [
        "!pip install chardet"
      ]
    },
    {
      "cell_type": "code",
      "execution_count": null,
      "metadata": {
        "colab": {
          "base_uri": "https://localhost:8080/"
        },
        "id": "lzzrqSMT8jY5",
        "outputId": "0e25fc00-1a64-4a89-88ed-a6b646b58957"
      },
      "outputs": [
        {
          "name": "stdout",
          "output_type": "stream",
          "text": [
            "time: 39 s (started: 2024-03-05 16:48:52 +00:00)\n"
          ]
        }
      ],
      "source": [
        "import chardet\n",
        "\n",
        "with open(\"/content/Twitter_Data.csv\", \"rb\") as f:\n",
        "    encoding = chardet.detect(f.read())[\"encoding\"]\n",
        "\n",
        "df = pd.read_csv(\"/content/Twitter_Data.csv\", encoding=encoding)"
      ]
    },
    {
      "cell_type": "code",
      "execution_count": null,
      "metadata": {
        "colab": {
          "base_uri": "https://localhost:8080/"
        },
        "id": "QPnHLUKR8SOp",
        "outputId": "b72b87c6-9b1d-4021-f0d9-21fdd25b0cf8"
      },
      "outputs": [
        {
          "name": "stdout",
          "output_type": "stream",
          "text": [
            "time: 412 ms (started: 2024-03-05 16:49:31 +00:00)\n"
          ]
        }
      ],
      "source": [
        "df = pd.read_csv(\"/content/Twitter_Data.csv\")"
      ]
    },
    {
      "cell_type": "code",
      "execution_count": null,
      "metadata": {
        "colab": {
          "base_uri": "https://localhost:8080/"
        },
        "id": "TY2FSQiJMqU4",
        "outputId": "1423ae07-e094-4ba6-d67e-0d45dd08eb37"
      },
      "outputs": [
        {
          "name": "stdout",
          "output_type": "stream",
          "text": [
            "Index(['clean_text', 'category'], dtype='object')\n",
            "time: 1.59 ms (started: 2024-03-05 16:49:32 +00:00)\n"
          ]
        }
      ],
      "source": [
        "print(df.columns)"
      ]
    },
    {
      "cell_type": "code",
      "execution_count": null,
      "metadata": {
        "colab": {
          "base_uri": "https://localhost:8080/"
        },
        "id": "dplmZsJbM3zq",
        "outputId": "779876a0-a69d-4771-c14f-d433c23ef852"
      },
      "outputs": [
        {
          "name": "stdout",
          "output_type": "stream",
          "text": [
            "<class 'pandas.core.frame.DataFrame'>\n",
            "RangeIndex: 162980 entries, 0 to 162979\n",
            "Data columns (total 2 columns):\n",
            " #   Column      Non-Null Count   Dtype  \n",
            "---  ------      --------------   -----  \n",
            " 0   clean_text  162976 non-null  object \n",
            " 1   category    162973 non-null  float64\n",
            "dtypes: float64(1), object(1)\n",
            "memory usage: 2.5+ MB\n",
            "None\n",
            "time: 49.7 ms (started: 2024-03-05 16:49:32 +00:00)\n"
          ]
        }
      ],
      "source": [
        "print(df.info())"
      ]
    },
    {
      "cell_type": "code",
      "execution_count": null,
      "metadata": {
        "colab": {
          "base_uri": "https://localhost:8080/"
        },
        "id": "E22XhFtfM7PX",
        "outputId": "613a5966-b878-4c69-8e9b-9d6842a89fa9"
      },
      "outputs": [
        {
          "name": "stdout",
          "output_type": "stream",
          "text": [
            "The `target` column does not exist in the DataFrame.\n",
            "time: 1.58 ms (started: 2024-03-05 16:49:32 +00:00)\n"
          ]
        }
      ],
      "source": [
        "if 'target' not in df.columns:\n",
        "    print('The `target` column does not exist in the DataFrame.')"
      ]
    },
    {
      "cell_type": "code",
      "execution_count": null,
      "metadata": {
        "colab": {
          "base_uri": "https://localhost:8080/"
        },
        "id": "etZGLVITNPu8",
        "outputId": "4b34f22a-fde6-493f-fd79-e61ee5051525"
      },
      "outputs": [
        {
          "name": "stdout",
          "output_type": "stream",
          "text": [
            "                                               clean_text  category\n",
            "0       when modi promised “minimum government maximum...      -1.0\n",
            "1       talk all the nonsense and continue all the dra...       0.0\n",
            "2       what did just say vote for modi  welcome bjp t...       1.0\n",
            "3       asking his supporters prefix chowkidar their n...       1.0\n",
            "4       answer who among these the most powerful world...       1.0\n",
            "...                                                   ...       ...\n",
            "162975  why these 456 crores paid neerav modi not reco...      -1.0\n",
            "162976  dear rss terrorist payal gawar what about modi...      -1.0\n",
            "162977  did you cover her interaction forum where she ...       0.0\n",
            "162978  there big project came into india modi dream p...       0.0\n",
            "162979  have you ever listen about like gurukul where ...       1.0\n",
            "\n",
            "[162980 rows x 2 columns]\n",
            "time: 6.1 ms (started: 2024-03-05 16:49:32 +00:00)\n"
          ]
        }
      ],
      "source": [
        "print(df)"
      ]
    },
    {
      "cell_type": "code",
      "execution_count": null,
      "metadata": {
        "colab": {
          "base_uri": "https://localhost:8080/"
        },
        "id": "dAaK9aWCNPqB",
        "outputId": "8aa06052-46dd-4d3c-e2a9-0d78086a4084"
      },
      "outputs": [
        {
          "name": "stdout",
          "output_type": "stream",
          "text": [
            "RangeIndex(start=0, stop=162980, step=1)\n",
            "Index(['clean_text', 'category'], dtype='object')\n",
            "time: 2.46 ms (started: 2024-03-05 16:49:32 +00:00)\n"
          ]
        }
      ],
      "source": [
        "print(df.index)\n",
        "print(df.columns)"
      ]
    },
    {
      "cell_type": "code",
      "execution_count": null,
      "metadata": {
        "colab": {
          "base_uri": "https://localhost:8080/"
        },
        "id": "rDJ2cpjyNPkv",
        "outputId": "1e3975bd-a984-4015-8ed6-bf4e51db61f5"
      },
      "outputs": [
        {
          "name": "stdout",
          "output_type": "stream",
          "text": [
            "False\n",
            "time: 645 µs (started: 2024-03-05 16:49:32 +00:00)\n"
          ]
        }
      ],
      "source": [
        "print('name' in df.__dict__)"
      ]
    },
    {
      "cell_type": "code",
      "execution_count": null,
      "metadata": {
        "colab": {
          "base_uri": "https://localhost:8080/"
        },
        "id": "yPYP0xjQNewI",
        "outputId": "1ffe203e-cfd4-474e-a82d-802a20c9d787"
      },
      "outputs": [
        {
          "name": "stdout",
          "output_type": "stream",
          "text": [
            "                                          clean_text  category\n",
            "0  when modi promised “minimum government maximum...      -1.0\n",
            "1  talk all the nonsense and continue all the dra...       0.0\n",
            "2  what did just say vote for modi  welcome bjp t...       1.0\n",
            "3  asking his supporters prefix chowkidar their n...       1.0\n",
            "4  answer who among these the most powerful world...       1.0\n",
            "time: 2.47 ms (started: 2024-03-05 16:49:32 +00:00)\n"
          ]
        }
      ],
      "source": [
        "print(df.head())"
      ]
    },
    {
      "cell_type": "code",
      "execution_count": null,
      "metadata": {
        "colab": {
          "base_uri": "https://localhost:8080/"
        },
        "id": "vbVZde3nNeo3",
        "outputId": "8eee015e-a109-4b1e-ad31-7c3d6fd5b904"
      },
      "outputs": [
        {
          "name": "stdout",
          "output_type": "stream",
          "text": [
            "False\n",
            "time: 651 µs (started: 2024-03-05 16:49:32 +00:00)\n"
          ]
        }
      ],
      "source": [
        "print('target' in df.columns)"
      ]
    },
    {
      "cell_type": "code",
      "execution_count": null,
      "metadata": {
        "colab": {
          "base_uri": "https://localhost:8080/"
        },
        "id": "-kwewtFlN-_X",
        "outputId": "a47b2450-f312-4508-b2cb-a96c86ed6917"
      },
      "outputs": [
        {
          "name": "stdout",
          "output_type": "stream",
          "text": [
            "time: 619 µs (started: 2024-03-05 16:49:32 +00:00)\n"
          ]
        }
      ],
      "source": [
        "import pandas as pd\n",
        "import matplotlib.pyplot as plt"
      ]
    },
    {
      "cell_type": "code",
      "execution_count": null,
      "metadata": {
        "colab": {
          "base_uri": "https://localhost:8080/",
          "height": 453
        },
        "id": "eJ15pN8COfLO",
        "outputId": "36017cae-0a9f-4937-f58b-3c9671a02f75"
      },
      "outputs": [
        {
          "data": {
            "image/png": "[encoded data removed]",
            "text/plain": [
              "<Figure size 640x480 with 1 Axes>"
            ]
          },
          "metadata": {},
          "output_type": "display_data"
        },
        {
          "name": "stdout",
          "output_type": "stream",
          "text": [
            "time: 211 ms (started: 2024-03-05 16:49:32 +00:00)\n"
          ]
        }
      ],
      "source": [
        "fig, ax = plt.subplots()"
      ]
    },
    {
      "cell_type": "code",
      "execution_count": null,
      "metadata": {
        "colab": {
          "base_uri": "https://localhost:8080/"
        },
        "id": "6abZlNw9OfGE",
        "outputId": "d7afec0a-9c5e-498f-9f59-7228aff07cb8"
      },
      "outputs": [
        {
          "name": "stderr",
          "output_type": "stream",
          "text": [
            "<ipython-input-274-7214b9eba547>:1: UserWarning: FixedFormatter should only be used together with FixedLocator\n",
            "  ax.set_xticklabels(['Negative','Positive'], rotation=0)\n"
          ]
        },
        {
          "data": {
            "text/plain": [
              "[Text(0.0, 0, 'Negative'),\n",
              " Text(0.2, 0, 'Positive'),\n",
              " Text(0.4, 0, ''),\n",
              " Text(0.6000000000000001, 0, ''),\n",
              " Text(0.8, 0, ''),\n",
              " Text(1.0, 0, '')]"
            ]
          },
          "execution_count": 274,
          "metadata": {},
          "output_type": "execute_result"
        },
        {
          "name": "stdout",
          "output_type": "stream",
          "text": [
            "time: 7.55 ms (started: 2024-03-05 16:49:32 +00:00)\n"
          ]
        }
      ],
      "source": [
        "ax.set_xticklabels(['Negative','Positive'], rotation=0)"
      ]
    },
    {
      "cell_type": "code",
      "execution_count": null,
      "metadata": {
        "colab": {
          "base_uri": "https://localhost:8080/"
        },
        "id": "fp5MPhWYOp3j",
        "outputId": "1542e535-41dd-49bc-befe-3d6626fe5cfc"
      },
      "outputs": [
        {
          "name": "stdout",
          "output_type": "stream",
          "text": [
            "time: 1.34 ms (started: 2024-03-05 16:49:32 +00:00)\n"
          ]
        }
      ],
      "source": [
        "plt.show()"
      ]
    },
    {
      "cell_type": "code",
      "execution_count": null,
      "metadata": {
        "colab": {
          "base_uri": "https://localhost:8080/",
          "height": 225
        },
        "id": "64GBSkRQP5z3",
        "outputId": "febcdb03-35d4-4f8c-c6b3-17ce70ac295d"
      },
      "outputs": [
        {
          "data": {
            "application/vnd.google.colaboratory.intrinsic+json": {
              "type": "dataframe",
              "variable_name": "df"
            },
            "text/html": [
              "\n",
              "  <div id=\"df-2719a113-3ae5-48c8-aa81-b7cfe434e0a7\" class=\"colab-df-container\">\n",
              "    <div>\n",
              "<style scoped>\n",
              "    .dataframe tbody tr th:only-of-type {\n",
              "        vertical-align: middle;\n",
              "    }\n",
              "\n",
              "    .dataframe tbody tr th {\n",
              "        vertical-align: top;\n",
              "    }\n",
              "\n",
              "    .dataframe thead th {\n",
              "        text-align: right;\n",
              "    }\n",
              "</style>\n",
              "<table border=\"1\" class=\"dataframe\">\n",
              "  <thead>\n",
              "    <tr style=\"text-align: right;\">\n",
              "      <th></th>\n",
              "      <th>clean_text</th>\n",
              "      <th>category</th>\n",
              "    </tr>\n",
              "  </thead>\n",
              "  <tbody>\n",
              "    <tr>\n",
              "      <th>0</th>\n",
              "      <td>when modi promised “minimum government maximum...</td>\n",
              "      <td>-1.0</td>\n",
              "    </tr>\n",
              "    <tr>\n",
              "      <th>1</th>\n",
              "      <td>talk all the nonsense and continue all the dra...</td>\n",
              "      <td>0.0</td>\n",
              "    </tr>\n",
              "    <tr>\n",
              "      <th>2</th>\n",
              "      <td>what did just say vote for modi  welcome bjp t...</td>\n",
              "      <td>1.0</td>\n",
              "    </tr>\n",
              "    <tr>\n",
              "      <th>3</th>\n",
              "      <td>asking his supporters prefix chowkidar their n...</td>\n",
              "      <td>1.0</td>\n",
              "    </tr>\n",
              "    <tr>\n",
              "      <th>4</th>\n",
              "      <td>answer who among these the most powerful world...</td>\n",
              "      <td>1.0</td>\n",
              "    </tr>\n",
              "  </tbody>\n",
              "</table>\n",
              "</div>\n",
              "    <div class=\"colab-df-buttons\">\n",
              "\n",
              "  <div class=\"colab-df-container\">\n",
              "    <button class=\"colab-df-convert\" onclick=\"convertToInteractive('df-2719a113-3ae5-48c8-aa81-b7cfe434e0a7')\"\n",
              "            title=\"Convert this dataframe to an interactive table.\"\n",
              "            style=\"display:none;\">\n",
              "\n",
              "  <svg xmlns=\"http://www.w3.org/2000/svg\" height=\"24px\" viewBox=\"0 -960 960 960\">\n",
              "    <path d=\"M120-120v-720h720v720H120Zm60-500h600v-160H180v160Zm220 220h160v-160H400v160Zm0 220h160v-160H400v160ZM180-400h160v-160H180v160Zm440 0h160v-160H620v160ZM180-180h160v-160H180v160Zm440 0h160v-160H620v160Z\"/>\n",
              "  </svg>\n",
              "    </button>\n",
              "\n",
              "  <style>\n",
              "    .colab-df-container {\n",
              "      display:flex;\n",
              "      gap: 12px;\n",
              "    }\n",
              "\n",
              "    .colab-df-convert {\n",
              "      background-color: #E8F0FE;\n",
              "      border: none;\n",
              "      border-radius: 50%;\n",
              "      cursor: pointer;\n",
              "      display: none;\n",
              "      fill: #1967D2;\n",
              "      height: 32px;\n",
              "      padding: 0 0 0 0;\n",
              "      width: 32px;\n",
              "    }\n",
              "\n",
              "    .colab-df-convert:hover {\n",
              "      background-color: #E2EBFA;\n",
              "      box-shadow: 0px 1px 2px rgba(60, 64, 67, 0.3), 0px 1px 3px 1px rgba(60, 64, 67, 0.15);\n",
              "      fill: #174EA6;\n",
              "    }\n",
              "\n",
              "    .colab-df-buttons div {\n",
              "      margin-bottom: 4px;\n",
              "    }\n",
              "\n",
              "    [theme=dark] .colab-df-convert {\n",
              "      background-color: #3B4455;\n",
              "      fill: #D2E3FC;\n",
              "    }\n",
              "\n",
              "    [theme=dark] .colab-df-convert:hover {\n",
              "      background-color: #434B5C;\n",
              "      box-shadow: 0px 1px 3px 1px rgba(0, 0, 0, 0.15);\n",
              "      filter: drop-shadow(0px 1px 2px rgba(0, 0, 0, 0.3));\n",
              "      fill: #FFFFFF;\n",
              "    }\n",
              "  </style>\n",
              "\n",
              "    <script>\n",
              "      const buttonEl =\n",
              "        document.querySelector('#df-2719a113-3ae5-48c8-aa81-b7cfe434e0a7 button.colab-df-convert');\n",
              "      buttonEl.style.display =\n",
              "        google.colab.kernel.accessAllowed ? 'block' : 'none';\n",
              "\n",
              "      async function convertToInteractive(key) {\n",
              "        const element = document.querySelector('#df-2719a113-3ae5-48c8-aa81-b7cfe434e0a7');\n",
              "        const dataTable =\n",
              "          await google.colab.kernel.invokeFunction('convertToInteractive',\n",
              "                                                    [key], {});\n",
              "        if (!dataTable) return;\n",
              "\n",
              "        const docLinkHtml = 'Like what you see? Visit the ' +\n",
              "          '<a target=\"_blank\" href=https://colab.research.google.com/notebooks/data_table.ipynb>data table notebook</a>'\n",
              "          + ' to learn more about interactive tables.';\n",
              "        element.innerHTML = '';\n",
              "        dataTable['output_type'] = 'display_data';\n",
              "        await google.colab.output.renderOutput(dataTable, element);\n",
              "        const docLink = document.createElement('div');\n",
              "        docLink.innerHTML = docLinkHtml;\n",
              "        element.appendChild(docLink);\n",
              "      }\n",
              "    </script>\n",
              "  </div>\n",
              "\n",
              "\n",
              "<div id=\"df-60858921-8f82-4ed3-8f39-fbc9654e876d\">\n",
              "  <button class=\"colab-df-quickchart\" onclick=\"quickchart('df-60858921-8f82-4ed3-8f39-fbc9654e876d')\"\n",
              "            title=\"Suggest charts\"\n",
              "            style=\"display:none;\">\n",
              "\n",
              "<svg xmlns=\"http://www.w3.org/2000/svg\" height=\"24px\"viewBox=\"0 0 24 24\"\n",
              "     width=\"24px\">\n",
              "    <g>\n",
              "        <path d=\"M19 3H5c-1.1 0-2 .9-2 2v14c0 1.1.9 2 2 2h14c1.1 0 2-.9 2-2V5c0-1.1-.9-2-2-2zM9 17H7v-7h2v7zm4 0h-2V7h2v10zm4 0h-2v-4h2v4z\"/>\n",
              "    </g>\n",
              "</svg>\n",
              "  </button>\n",
              "\n",
              "<style>\n",
              "  .colab-df-quickchart {\n",
              "      --bg-color: #E8F0FE;\n",
              "      --fill-color: #1967D2;\n",
              "      --hover-bg-color: #E2EBFA;\n",
              "      --hover-fill-color: #174EA6;\n",
              "      --disabled-fill-color: #AAA;\n",
              "      --disabled-bg-color: #DDD;\n",
              "  }\n",
              "\n",
              "  [theme=dark] .colab-df-quickchart {\n",
              "      --bg-color: #3B4455;\n",
              "      --fill-color: #D2E3FC;\n",
              "      --hover-bg-color: #434B5C;\n",
              "      --hover-fill-color: #FFFFFF;\n",
              "      --disabled-bg-color: #3B4455;\n",
              "      --disabled-fill-color: #666;\n",
              "  }\n",
              "\n",
              "  .colab-df-quickchart {\n",
              "    background-color: var(--bg-color);\n",
              "    border: none;\n",
              "    border-radius: 50%;\n",
              "    cursor: pointer;\n",
              "    display: none;\n",
              "    fill: var(--fill-color);\n",
              "    height: 32px;\n",
              "    padding: 0;\n",
              "    width: 32px;\n",
              "  }\n",
              "\n",
              "  .colab-df-quickchart:hover {\n",
              "    background-color: var(--hover-bg-color);\n",
              "    box-shadow: 0 1px 2px rgba(60, 64, 67, 0.3), 0 1px 3px 1px rgba(60, 64, 67, 0.15);\n",
              "    fill: var(--button-hover-fill-color);\n",
              "  }\n",
              "\n",
              "  .colab-df-quickchart-complete:disabled,\n",
              "  .colab-df-quickchart-complete:disabled:hover {\n",
              "    background-color: var(--disabled-bg-color);\n",
              "    fill: var(--disabled-fill-color);\n",
              "    box-shadow: none;\n",
              "  }\n",
              "\n",
              "  .colab-df-spinner {\n",
              "    border: 2px solid var(--fill-color);\n",
              "    border-color: transparent;\n",
              "    border-bottom-color: var(--fill-color);\n",
              "    animation:\n",
              "      spin 1s steps(1) infinite;\n",
              "  }\n",
              "\n",
              "  @keyframes spin {\n",
              "    0% {\n",
              "      border-color: transparent;\n",
              "      border-bottom-color: var(--fill-color);\n",
              "      border-left-color: var(--fill-color);\n",
              "    }\n",
              "    20% {\n",
              "      border-color: transparent;\n",
              "      border-left-color: var(--fill-color);\n",
              "      border-top-color: var(--fill-color);\n",
              "    }\n",
              "    30% {\n",
              "      border-color: transparent;\n",
              "      border-left-color: var(--fill-color);\n",
              "      border-top-color: var(--fill-color);\n",
              "      border-right-color: var(--fill-color);\n",
              "    }\n",
              "    40% {\n",
              "      border-color: transparent;\n",
              "      border-right-color: var(--fill-color);\n",
              "      border-top-color: var(--fill-color);\n",
              "    }\n",
              "    60% {\n",
              "      border-color: transparent;\n",
              "      border-right-color: var(--fill-color);\n",
              "    }\n",
              "    80% {\n",
              "      border-color: transparent;\n",
              "      border-right-color: var(--fill-color);\n",
              "      border-bottom-color: var(--fill-color);\n",
              "    }\n",
              "    90% {\n",
              "      border-color: transparent;\n",
              "      border-bottom-color: var(--fill-color);\n",
              "    }\n",
              "  }\n",
              "</style>\n",
              "\n",
              "  <script>\n",
              "    async function quickchart(key) {\n",
              "      const quickchartButtonEl =\n",
              "        document.querySelector('#' + key + ' button');\n",
              "      quickchartButtonEl.disabled = true;  // To prevent multiple clicks.\n",
              "      quickchartButtonEl.classList.add('colab-df-spinner');\n",
              "      try {\n",
              "        const charts = await google.colab.kernel.invokeFunction(\n",
              "            'suggestCharts', [key], {});\n",
              "      } catch (error) {\n",
              "        console.error('Error during call to suggestCharts:', error);\n",
              "      }\n",
              "      quickchartButtonEl.classList.remove('colab-df-spinner');\n",
              "      quickchartButtonEl.classList.add('colab-df-quickchart-complete');\n",
              "    }\n",
              "    (() => {\n",
              "      let quickchartButtonEl =\n",
              "        document.querySelector('#df-60858921-8f82-4ed3-8f39-fbc9654e876d button');\n",
              "      quickchartButtonEl.style.display =\n",
              "        google.colab.kernel.accessAllowed ? 'block' : 'none';\n",
              "    })();\n",
              "  </script>\n",
              "</div>\n",
              "\n",
              "    </div>\n",
              "  </div>\n"
            ],
            "text/plain": [
              "                                          clean_text  category\n",
              "0  when modi promised “minimum government maximum...      -1.0\n",
              "1  talk all the nonsense and continue all the dra...       0.0\n",
              "2  what did just say vote for modi  welcome bjp t...       1.0\n",
              "3  asking his supporters prefix chowkidar their n...       1.0\n",
              "4  answer who among these the most powerful world...       1.0"
            ]
          },
          "execution_count": 276,
          "metadata": {},
          "output_type": "execute_result"
        },
        {
          "name": "stdout",
          "output_type": "stream",
          "text": [
            "time: 12.4 ms (started: 2024-03-05 16:49:32 +00:00)\n"
          ]
        }
      ],
      "source": [
        "df.head()"
      ]
    },
    {
      "cell_type": "code",
      "execution_count": null,
      "metadata": {
        "colab": {
          "base_uri": "https://localhost:8080/"
        },
        "id": "tVSTG_eVP5vC",
        "outputId": "80eb2ad3-f1c7-4000-9c19-702af5e7e95d"
      },
      "outputs": [
        {
          "data": {
            "text/plain": [
              "Index(['clean_text', 'category'], dtype='object')"
            ]
          },
          "execution_count": 277,
          "metadata": {},
          "output_type": "execute_result"
        },
        {
          "name": "stdout",
          "output_type": "stream",
          "text": [
            "time: 3.88 ms (started: 2024-03-05 16:49:32 +00:00)\n"
          ]
        }
      ],
      "source": [
        "df.columns"
      ]
    },
    {
      "cell_type": "code",
      "execution_count": null,
      "metadata": {
        "colab": {
          "base_uri": "https://localhost:8080/"
        },
        "id": "WJSy6FMlQIr9",
        "outputId": "db340ea9-2ee4-490e-e4b4-76dd37c184b3"
      },
      "outputs": [
        {
          "name": "stdout",
          "output_type": "stream",
          "text": [
            "time: 41.3 ms (started: 2024-03-05 16:49:32 +00:00)\n"
          ]
        }
      ],
      "source": [
        "text = list(df['clean_text'])"
      ]
    },
    {
      "cell_type": "code",
      "execution_count": null,
      "metadata": {
        "colab": {
          "base_uri": "https://localhost:8080/"
        },
        "id": "SbVbCKk8QrXX",
        "outputId": "be5424e1-ad46-4b4f-db2d-88b2b7d34df5"
      },
      "outputs": [
        {
          "name": "stdout",
          "output_type": "stream",
          "text": [
            "Index(['clean_text', 'category'], dtype='object')\n",
            "time: 1.93 ms (started: 2024-03-05 16:49:32 +00:00)\n"
          ]
        }
      ],
      "source": [
        "print(df.columns)"
      ]
    },
    {
      "cell_type": "code",
      "execution_count": null,
      "metadata": {
        "colab": {
          "base_uri": "https://localhost:8080/"
        },
        "id": "Y1lQdx1uRTzu",
        "outputId": "5188f3df-9945-4fd8-b6a3-d97d42c52862"
      },
      "outputs": [
        {
          "name": "stdout",
          "output_type": "stream",
          "text": [
            "time: 3.55 ms (started: 2024-03-05 16:49:32 +00:00)\n"
          ]
        }
      ],
      "source": [
        "df['target'] = None  # Your logic to create the target column"
      ]
    },
    {
      "cell_type": "code",
      "execution_count": null,
      "metadata": {
        "colab": {
          "base_uri": "https://localhost:8080/",
          "height": 486
        },
        "id": "UWHKKtueRTuf",
        "outputId": "caafd3ff-71ca-4a92-c099-9000dada7c90"
      },
      "outputs": [
        {
          "data": {
            "text/plain": [
              "<Axes: xlabel='target', ylabel='count'>"
            ]
          },
          "execution_count": 281,
          "metadata": {},
          "output_type": "execute_result"
        },
        {
          "data": {
            "image/png": "[encoded data removed]",
            "text/plain": [
              "<Figure size 640x480 with 1 Axes>"
            ]
          },
          "metadata": {},
          "output_type": "display_data"
        },
        {
          "name": "stdout",
          "output_type": "stream",
          "text": [
            "time: 476 ms (started: 2024-03-05 16:49:32 +00:00)\n"
          ]
        }
      ],
      "source": [
        "sns.countplot(x='target', data=df)"
      ]
    },
    {
      "cell_type": "code",
      "execution_count": null,
      "metadata": {
        "colab": {
          "base_uri": "https://localhost:8080/",
          "height": 486
        },
        "id": "y0Zun-o-MJRG",
        "outputId": "d6899a30-709d-4b52-b610-b2dfd7484f9d"
      },
      "outputs": [
        {
          "data": {
            "text/plain": [
              "<Axes: xlabel='target', ylabel='count'>"
            ]
          },
          "execution_count": 282,
          "metadata": {},
          "output_type": "execute_result"
        },
        {
          "data": {
            "image/png": "[encoded data removed]",
            "text/plain": [
              "<Figure size 640x480 with 1 Axes>"
            ]
          },
          "metadata": {},
          "output_type": "display_data"
        },
        {
          "name": "stdout",
          "output_type": "stream",
          "text": [
            "time: 354 ms (started: 2024-03-05 16:49:33 +00:00)\n"
          ]
        }
      ],
      "source": [
        "import seaborn as sns\n",
        "sns.countplot(x='target', data=df)"
      ]
    },
    {
      "cell_type": "code",
      "execution_count": null,
      "metadata": {
        "colab": {
          "base_uri": "https://localhost:8080/"
        },
        "id": "K3Iw1zCyTMmv",
        "outputId": "8514e1bf-4e22-4773-d17a-a71854aea092"
      },
      "outputs": [
        {
          "name": "stdout",
          "output_type": "stream",
          "text": [
            "time: 1.86 ms (started: 2024-03-05 16:49:33 +00:00)\n"
          ]
        }
      ],
      "source": [
        "df = pd.DataFrame({\"text\": [\"when modi promi…\"], \"target\": [1]})"
      ]
    },
    {
      "cell_type": "code",
      "execution_count": null,
      "metadata": {
        "colab": {
          "base_uri": "https://localhost:8080/"
        },
        "id": "vQ0pfA2XMJVi",
        "outputId": "1f5b89d8-9819-47b4-f9cb-9ff8bf2b93e4"
      },
      "outputs": [
        {
          "name": "stdout",
          "output_type": "stream",
          "text": [
            "time: 2.07 ms (started: 2024-03-05 16:49:33 +00:00)\n"
          ]
        }
      ],
      "source": [
        "data=df[['text','target']]"
      ]
    },
    {
      "cell_type": "code",
      "execution_count": null,
      "metadata": {
        "colab": {
          "base_uri": "https://localhost:8080/"
        },
        "id": "g7TYIJC0TSiQ",
        "outputId": "0c74ef8c-6614-49cc-f155-eb071a7c7da9"
      },
      "outputs": [
        {
          "name": "stdout",
          "output_type": "stream",
          "text": [
            "               text  target\n",
            "0  when modi promi…       1\n",
            "time: 5 ms (started: 2024-03-05 16:49:33 +00:00)\n"
          ]
        }
      ],
      "source": [
        "print(data)"
      ]
    },
    {
      "cell_type": "code",
      "execution_count": null,
      "metadata": {
        "colab": {
          "base_uri": "https://localhost:8080/"
        },
        "id": "sgjFlmlTMbyd",
        "outputId": "9a68da0a-2eeb-4434-f1b9-960a66eeea8a"
      },
      "outputs": [
        {
          "name": "stdout",
          "output_type": "stream",
          "text": [
            "time: 1.6 ms (started: 2024-03-05 16:49:33 +00:00)\n"
          ]
        }
      ],
      "source": [
        "data['target'] = data['target'].replace(4,1)"
      ]
    },
    {
      "cell_type": "code",
      "execution_count": null,
      "metadata": {
        "colab": {
          "base_uri": "https://localhost:8080/"
        },
        "id": "ME4DskB3Mb5i",
        "outputId": "e58715cb-f7b8-4ddd-fa97-c5909888d719"
      },
      "outputs": [
        {
          "data": {
            "text/plain": [
              "array([1])"
            ]
          },
          "execution_count": 287,
          "metadata": {},
          "output_type": "execute_result"
        },
        {
          "name": "stdout",
          "output_type": "stream",
          "text": [
            "time: 4.99 ms (started: 2024-03-05 16:49:33 +00:00)\n"
          ]
        }
      ],
      "source": [
        "data['target'].unique()"
      ]
    },
    {
      "cell_type": "code",
      "execution_count": null,
      "metadata": {
        "colab": {
          "base_uri": "https://localhost:8080/"
        },
        "id": "jCAGwrUnMb9j",
        "outputId": "81e657b6-d61f-45dd-8e70-65be52029e42"
      },
      "outputs": [
        {
          "name": "stdout",
          "output_type": "stream",
          "text": [
            "time: 3.85 ms (started: 2024-03-05 16:49:33 +00:00)\n"
          ]
        }
      ],
      "source": [
        "data_pos = data[data['target'] == 1]\n",
        "data_neg = data[data['target'] == 0]"
      ]
    },
    {
      "cell_type": "code",
      "execution_count": null,
      "metadata": {
        "colab": {
          "base_uri": "https://localhost:8080/"
        },
        "id": "JwnkjIsuMcB7",
        "outputId": "9bc8d95f-33b4-428c-8f3f-181a5b0d38ff"
      },
      "outputs": [
        {
          "name": "stdout",
          "output_type": "stream",
          "text": [
            "time: 1.01 ms (started: 2024-03-05 16:49:33 +00:00)\n"
          ]
        }
      ],
      "source": [
        "data_pos = data_pos.iloc[:int(20000)]\n",
        "data_neg = data_neg.iloc[:int(20000)]"
      ]
    },
    {
      "cell_type": "code",
      "execution_count": null,
      "metadata": {
        "colab": {
          "base_uri": "https://localhost:8080/"
        },
        "id": "bsdB-KxGMcq9",
        "outputId": "4858f056-fff5-4749-ec60-e2a677ca6c10"
      },
      "outputs": [
        {
          "name": "stdout",
          "output_type": "stream",
          "text": [
            "time: 1.6 ms (started: 2024-03-05 16:49:33 +00:00)\n"
          ]
        }
      ],
      "source": [
        "dataset = pd.concat([data_pos, data_neg])"
      ]
    },
    {
      "cell_type": "code",
      "execution_count": null,
      "metadata": {
        "colab": {
          "base_uri": "https://localhost:8080/"
        },
        "id": "zdZrfrIfMcy1",
        "outputId": "42e6711d-8e93-47cd-e9c1-20438313c56d"
      },
      "outputs": [
        {
          "data": {
            "text/plain": [
              "0    when modi promi…\n",
              "Name: text, dtype: object"
            ]
          },
          "execution_count": 291,
          "metadata": {},
          "output_type": "execute_result"
        },
        {
          "name": "stdout",
          "output_type": "stream",
          "text": [
            "time: 7.86 ms (started: 2024-03-05 16:49:33 +00:00)\n"
          ]
        }
      ],
      "source": [
        "dataset['text']=dataset['text'].str.lower()\n",
        "dataset['text'].tail()\n"
      ]
    },
    {
      "cell_type": "code",
      "execution_count": null,
      "metadata": {
        "colab": {
          "base_uri": "https://localhost:8080/"
        },
        "id": "-tHzMmeNNXgP",
        "outputId": "2503c7c1-95c8-4001-8c73-a0511163dd98"
      },
      "outputs": [
        {
          "name": "stdout",
          "output_type": "stream",
          "text": [
            "time: 856 µs (started: 2024-03-05 16:49:33 +00:00)\n"
          ]
        }
      ],
      "source": [
        "stopwordlist = ['a', 'about', 'above', 'after', 'again', 'ain', 'all', 'am', 'an',\n",
        "             'and','any','are', 'as', 'at', 'be', 'because', 'been', 'before',\n",
        "             'being', 'below', 'between','both', 'by', 'can', 'd', 'did', 'do',\n",
        "             'does', 'doing', 'down', 'during', 'each','few', 'for', 'from',\n",
        "             'further', 'had', 'has', 'have', 'having', 'he', 'her', 'here',\n",
        "             'hers', 'herself', 'him', 'himself', 'his', 'how', 'i', 'if', 'in',\n",
        "             'into','is', 'it', 'its', 'itself', 'just', 'll', 'm', 'ma',\n",
        "             'me', 'more', 'most','my', 'myself', 'now', 'o', 'of', 'on', 'once',\n",
        "             'only', 'or', 'other', 'our', 'ours','ourselves', 'out', 'own', 're','s', 'same', 'she', \"shes\", 'should', \"shouldve\",'so', 'some', 'such',\n",
        "             't', 'than', 'that', \"thatll\", 'the', 'their', 'theirs', 'them',\n",
        "             'themselves', 'then', 'there', 'these', 'they', 'this', 'those',\n",
        "             'through', 'to', 'too','under', 'until', 'up', 've', 'very', 'was',\n",
        "             'we', 'were', 'what', 'when', 'where','which','while', 'who', 'whom',\n",
        "             'why', 'will', 'with', 'won', 'y', 'you', \"youd\",\"youll\", \"youre\",\n",
        "             \"youve\", 'your', 'yours', 'yourself', 'yourselves']"
      ]
    },
    {
      "cell_type": "code",
      "execution_count": null,
      "metadata": {
        "colab": {
          "base_uri": "https://localhost:8080/"
        },
        "id": "KH2a8IjcNXkj",
        "outputId": "d330c275-ebbc-49fc-89c8-ec503c5c24eb"
      },
      "outputs": [
        {
          "data": {
            "text/plain": [
              "0    modi promi…\n",
              "Name: text, dtype: object"
            ]
          },
          "execution_count": 293,
          "metadata": {},
          "output_type": "execute_result"
        },
        {
          "name": "stdout",
          "output_type": "stream",
          "text": [
            "time: 12.5 ms (started: 2024-03-05 16:49:33 +00:00)\n"
          ]
        }
      ],
      "source": [
        "STOPWORDS = set(stopwordlist)\n",
        "def cleaning_stopwords(text):\n",
        "    return \" \".join([word for word in str(text).split() if word not in STOPWORDS])\n",
        "dataset['text'] = dataset['text'].apply(lambda text: cleaning_stopwords(text))\n",
        "dataset['text'].head()"
      ]
    },
    {
      "cell_type": "code",
      "execution_count": null,
      "metadata": {
        "colab": {
          "base_uri": "https://localhost:8080/"
        },
        "id": "pyxY17tWMc2M",
        "outputId": "b3c43455-8bc9-40ba-e4ff-cbefbd8b08dc"
      },
      "outputs": [
        {
          "data": {
            "text/plain": [
              "0    modi promi…\n",
              "Name: text, dtype: object"
            ]
          },
          "execution_count": 294,
          "metadata": {},
          "output_type": "execute_result"
        },
        {
          "name": "stdout",
          "output_type": "stream",
          "text": [
            "time: 5.91 ms (started: 2024-03-05 16:49:33 +00:00)\n"
          ]
        }
      ],
      "source": [
        "import string\n",
        "english_punctuations = string.punctuation\n",
        "punctuations_list = english_punctuations\n",
        "def cleaning_punctuations(text):\n",
        "    translator = str.maketrans('', '', punctuations_list)\n",
        "    return text.translate(translator)\n",
        "dataset['text']= dataset['text'].apply(lambda x: cleaning_punctuations(x))\n",
        "dataset['text'].tail()"
      ]
    },
    {
      "cell_type": "code",
      "execution_count": null,
      "metadata": {
        "colab": {
          "base_uri": "https://localhost:8080/"
        },
        "id": "zfWAprcvNkj5",
        "outputId": "9103f5a1-d000-4ff2-82c2-52fa2d9b46d4"
      },
      "outputs": [
        {
          "data": {
            "text/plain": [
              "0    modi promi…\n",
              "Name: text, dtype: object"
            ]
          },
          "execution_count": 295,
          "metadata": {},
          "output_type": "execute_result"
        },
        {
          "name": "stdout",
          "output_type": "stream",
          "text": [
            "time: 5.86 ms (started: 2024-03-05 16:49:33 +00:00)\n"
          ]
        }
      ],
      "source": [
        "def cleaning_repeating_char(text):\n",
        "    return re.sub(r'(.)1+', r'1', text)\n",
        "dataset['text'] = dataset['text'].apply(lambda x: cleaning_repeating_char(x))\n",
        "dataset['text'].tail()\n"
      ]
    },
    {
      "cell_type": "code",
      "execution_count": null,
      "metadata": {
        "colab": {
          "base_uri": "https://localhost:8080/"
        },
        "id": "nhbbA1giNkoS",
        "outputId": "065b7efc-8e02-4e9f-fd36-3357718dd3ee"
      },
      "outputs": [
        {
          "data": {
            "text/plain": [
              "0    modi promi…\n",
              "Name: text, dtype: object"
            ]
          },
          "execution_count": 296,
          "metadata": {},
          "output_type": "execute_result"
        },
        {
          "name": "stdout",
          "output_type": "stream",
          "text": [
            "time: 9.66 ms (started: 2024-03-05 16:49:33 +00:00)\n"
          ]
        }
      ],
      "source": [
        "def cleaning_URLs(data):\n",
        "    return re.sub('((www.[^s]+)|(https?://[^s]+))',' ',data)\n",
        "dataset['text'] = dataset['text'].apply(lambda x: cleaning_URLs(x))\n",
        "dataset['text'].tail()"
      ]
    },
    {
      "cell_type": "code",
      "execution_count": null,
      "metadata": {
        "colab": {
          "base_uri": "https://localhost:8080/"
        },
        "id": "RYRCHjAWN943",
        "outputId": "3f93bc76-55fa-402a-836d-813073fcf791"
      },
      "outputs": [
        {
          "data": {
            "text/plain": [
              "0    modi promi…\n",
              "Name: text, dtype: object"
            ]
          },
          "execution_count": 297,
          "metadata": {},
          "output_type": "execute_result"
        },
        {
          "name": "stdout",
          "output_type": "stream",
          "text": [
            "time: 7.07 ms (started: 2024-03-05 16:49:33 +00:00)\n"
          ]
        }
      ],
      "source": [
        "def cleaning_numbers(data):\n",
        "    return re.sub('[0-9]+', '', data)\n",
        "dataset['text'] = dataset['text'].apply(lambda x: cleaning_numbers(x))\n",
        "dataset['text'].tail()"
      ]
    },
    {
      "cell_type": "code",
      "execution_count": null,
      "metadata": {
        "colab": {
          "base_uri": "https://localhost:8080/"
        },
        "id": "UHkSuX0PN98i",
        "outputId": "5b099d9a-990a-42c0-8d83-88725b56343f"
      },
      "outputs": [
        {
          "data": {
            "text/plain": [
              "0    []\n",
              "Name: text, dtype: object"
            ]
          },
          "execution_count": 298,
          "metadata": {},
          "output_type": "execute_result"
        },
        {
          "name": "stdout",
          "output_type": "stream",
          "text": [
            "time: 7.11 ms (started: 2024-03-05 16:49:33 +00:00)\n"
          ]
        }
      ],
      "source": [
        "from nltk.tokenize import RegexpTokenizer\n",
        "tokenizer = RegexpTokenizer(r'w+')\n",
        "dataset['text'] = dataset['text'].apply(tokenizer.tokenize)\n",
        "dataset['text'].head()"
      ]
    },
    {
      "cell_type": "code",
      "execution_count": null,
      "metadata": {
        "colab": {
          "base_uri": "https://localhost:8080/"
        },
        "id": "_ptLDycxOqCj",
        "outputId": "65ca2f7c-8803-4545-b51e-698af85320f4"
      },
      "outputs": [
        {
          "data": {
            "text/plain": [
              "0    []\n",
              "Name: text, dtype: object"
            ]
          },
          "execution_count": 299,
          "metadata": {},
          "output_type": "execute_result"
        },
        {
          "name": "stdout",
          "output_type": "stream",
          "text": [
            "time: 5.77 ms (started: 2024-03-05 16:49:33 +00:00)\n"
          ]
        }
      ],
      "source": [
        "import nltk\n",
        "st = nltk.PorterStemmer()\n",
        "def stemming_on_text(data):\n",
        "    text = [st.stem(word) for word in data]\n",
        "    return data\n",
        "dataset['text']= dataset['text'].apply(lambda x: stemming_on_text(x))\n",
        "dataset['text'].head()"
      ]
    },
    {
      "cell_type": "code",
      "execution_count": null,
      "metadata": {
        "colab": {
          "base_uri": "https://localhost:8080/"
        },
        "id": "Rp1GJXgrOqHV",
        "outputId": "9b02a087-6edc-4a0e-ad1a-c10cfcb1865c"
      },
      "outputs": [
        {
          "data": {
            "text/plain": [
              "0    []\n",
              "Name: text, dtype: object"
            ]
          },
          "execution_count": 300,
          "metadata": {},
          "output_type": "execute_result"
        },
        {
          "name": "stdout",
          "output_type": "stream",
          "text": [
            "time: 7.48 ms (started: 2024-03-05 16:49:33 +00:00)\n"
          ]
        }
      ],
      "source": [
        "lm = nltk.WordNetLemmatizer()\n",
        "def lemmatizer_on_text(data):\n",
        "    text = [lm.lemmatize(word) for word in data]\n",
        "    return data\n",
        "dataset['text'] = dataset['text'].apply(lambda x: lemmatizer_on_text(x))\n",
        "dataset['text'].head()"
      ]
    },
    {
      "cell_type": "code",
      "execution_count": null,
      "metadata": {
        "colab": {
          "base_uri": "https://localhost:8080/"
        },
        "id": "FviPHsM5OwJb",
        "outputId": "d6d3c514-3ec5-46d5-a0e6-0b1062970b45"
      },
      "outputs": [
        {
          "name": "stdout",
          "output_type": "stream",
          "text": [
            "time: 877 µs (started: 2024-03-05 16:49:33 +00:00)\n"
          ]
        }
      ],
      "source": [
        "X=data.text\n",
        "y=data.target"
      ]
    },
    {
      "cell_type": "code",
      "execution_count": null,
      "metadata": {
        "colab": {
          "base_uri": "https://localhost:8080/",
          "height": 615
        },
        "id": "GMQciET3OwNc",
        "outputId": "e54b1639-672e-416e-a52b-e26fa47ab79e"
      },
      "outputs": [
        {
          "data": {
            "text/plain": [
              "<matplotlib.image.AxesImage at 0x7cb0ff6c4f40>"
            ]
          },
          "execution_count": 302,
          "metadata": {},
          "output_type": "execute_result"
        },
        {
          "data": {
            "image/png": "[encoded data removed]",
            "text/plain": [
              "<Figure size 2000x2000 with 1 Axes>"
            ]
          },
          "metadata": {},
          "output_type": "display_data"
        },
        {
          "name": "stdout",
          "output_type": "stream",
          "text": [
            "time: 1.16 s (started: 2024-03-05 16:49:33 +00:00)\n"
          ]
        }
      ],
      "source": [
        "data_neg = data['text'][:800000]\n",
        "plt.figure(figsize = (20,20))\n",
        "wc = WordCloud(max_words = 1000 , width = 1600 , height = 800,\n",
        "               collocations=False).generate(\" \".join(data_neg))\n",
        "plt.imshow(wc)\n"
      ]
    },
    {
      "cell_type": "code",
      "execution_count": null,
      "metadata": {
        "colab": {
          "base_uri": "https://localhost:8080/"
        },
        "id": "kkqMLf4rT3AA",
        "outputId": "e69cb587-2c74-4a43-ce0d-82fe7d3245dc"
      },
      "outputs": [
        {
          "name": "stdout",
          "output_type": "stream",
          "text": [
            "Requirement already satisfied: wordcloud in /usr/local/lib/python3.10/dist-packages (1.9.3)\n",
            "Requirement already satisfied: numpy>=1.6.1 in /usr/local/lib/python3.10/dist-packages (from wordcloud) (1.25.2)\n",
            "Requirement already satisfied: pillow in /usr/local/lib/python3.10/dist-packages (from wordcloud) (9.4.0)\n",
            "Requirement already satisfied: matplotlib in /usr/local/lib/python3.10/dist-packages (from wordcloud) (3.7.1)\n",
            "Requirement already satisfied: contourpy>=1.0.1 in /usr/local/lib/python3.10/dist-packages (from matplotlib->wordcloud) (1.2.0)\n",
            "Requirement already satisfied: cycler>=0.10 in /usr/local/lib/python3.10/dist-packages (from matplotlib->wordcloud) (0.12.1)\n",
            "Requirement already satisfied: fonttools>=4.22.0 in /usr/local/lib/python3.10/dist-packages (from matplotlib->wordcloud) (4.49.0)\n",
            "Requirement already satisfied: kiwisolver>=1.0.1 in /usr/local/lib/python3.10/dist-packages (from matplotlib->wordcloud) (1.4.5)\n",
            "Requirement already satisfied: packaging>=20.0 in /usr/local/lib/python3.10/dist-packages (from matplotlib->wordcloud) (23.2)\n",
            "Requirement already satisfied: pyparsing>=2.3.1 in /usr/local/lib/python3.10/dist-packages (from matplotlib->wordcloud) (3.1.1)\n",
            "Requirement already satisfied: python-dateutil>=2.7 in /usr/local/lib/python3.10/dist-packages (from matplotlib->wordcloud) (2.8.2)\n",
            "Requirement already satisfied: six>=1.5 in /usr/local/lib/python3.10/dist-packages (from python-dateutil>=2.7->matplotlib->wordcloud) (1.16.0)\n",
            "time: 5.95 s (started: 2024-03-05 16:49:34 +00:00)\n"
          ]
        }
      ],
      "source": [
        "!pip install wordcloud\n",
        "from wordcloud import WordCloud"
      ]
    },
    {
      "cell_type": "code",
      "execution_count": null,
      "metadata": {
        "colab": {
          "base_uri": "https://localhost:8080/"
        },
        "id": "FA7Dr_d8T8Uy",
        "outputId": "c180aa4e-c9ad-4e6c-c53c-aec1cf48df35"
      },
      "outputs": [
        {
          "name": "stdout",
          "output_type": "stream",
          "text": [
            "               text  target\n",
            "0  when modi promi…       1\n",
            "time: 4.39 ms (started: 2024-03-05 16:49:40 +00:00)\n"
          ]
        }
      ],
      "source": [
        "print(data_pos)"
      ]
    },
    {
      "cell_type": "code",
      "execution_count": null,
      "metadata": {
        "colab": {
          "base_uri": "https://localhost:8080/"
        },
        "id": "sfMtQBmlT9ra",
        "outputId": "417e9b01-4871-4a86-c5d8-43893527a961"
      },
      "outputs": [
        {
          "name": "stdout",
          "output_type": "stream",
          "text": [
            "1\n",
            "time: 1.89 ms (started: 2024-03-05 16:49:40 +00:00)\n"
          ]
        }
      ],
      "source": [
        "print(len(data_pos))"
      ]
    },
    {
      "cell_type": "code",
      "execution_count": null,
      "metadata": {
        "colab": {
          "base_uri": "https://localhost:8080/"
        },
        "id": "Fe0Hl7opUHV9",
        "outputId": "5823a9b9-d2e2-45f0-9608-bfd09e4330fd"
      },
      "outputs": [
        {
          "name": "stdout",
          "output_type": "stream",
          "text": [
            "time: 883 µs (started: 2024-03-05 16:49:40 +00:00)\n"
          ]
        }
      ],
      "source": [
        "data_pos = data['text'][800000:]"
      ]
    },
    {
      "cell_type": "code",
      "execution_count": null,
      "metadata": {
        "colab": {
          "base_uri": "https://localhost:8080/"
        },
        "id": "hVYia6htUXmN",
        "outputId": "a4849aa8-6ded-4740-e51b-ed99514bcf8b"
      },
      "outputs": [
        {
          "name": "stdout",
          "output_type": "stream",
          "text": [
            "Series([], Name: text, dtype: object)\n",
            "time: 1.3 ms (started: 2024-03-05 16:49:40 +00:00)\n"
          ]
        }
      ],
      "source": [
        "print(data_pos)"
      ]
    },
    {
      "cell_type": "code",
      "execution_count": null,
      "metadata": {
        "colab": {
          "base_uri": "https://localhost:8080/"
        },
        "id": "numRelDWUXfF",
        "outputId": "e49de198-9cd8-48d3-a2ad-f461998da703"
      },
      "outputs": [
        {
          "name": "stdout",
          "output_type": "stream",
          "text": [
            "<class 'pandas.core.series.Series'>\n",
            "0\n",
            "time: 3.27 ms (started: 2024-03-05 16:49:40 +00:00)\n"
          ]
        }
      ],
      "source": [
        "# Print the type of data_pos\n",
        "print(type(data_pos))\n",
        "\n",
        "# Print the length of data_pos\n",
        "print(len(data_pos))\n",
        "\n",
        "# Print the first element of data_pos (if it exists)\n",
        "if len(data_pos) > 0:\n",
        "    print(data_pos[0])"
      ]
    },
    {
      "cell_type": "code",
      "execution_count": null,
      "metadata": {
        "colab": {
          "base_uri": "https://localhost:8080/"
        },
        "id": "DOTgkqKYUvqh",
        "outputId": "d8d46f5f-c2b3-4db3-c6c9-f8ebd472c703"
      },
      "outputs": [
        {
          "name": "stdout",
          "output_type": "stream",
          "text": [
            "time: 1.46 ms (started: 2024-03-05 16:49:40 +00:00)\n"
          ]
        }
      ],
      "source": [
        "data = pd.DataFrame({'text': ['when modi promised', '...'], 'target': [1, 2]})"
      ]
    },
    {
      "cell_type": "code",
      "execution_count": null,
      "metadata": {
        "colab": {
          "base_uri": "https://localhost:8080/"
        },
        "id": "f8j9FetfUvli",
        "outputId": "97d1ee40-0b1d-41ac-8992-20f04b866ea8"
      },
      "outputs": [
        {
          "name": "stdout",
          "output_type": "stream",
          "text": [
            "time: 2.11 ms (started: 2024-03-05 16:49:40 +00:00)\n"
          ]
        }
      ],
      "source": [
        "data_pos = data[data['target'] == 1]['text'].tolist()"
      ]
    },
    {
      "cell_type": "code",
      "execution_count": null,
      "metadata": {
        "colab": {
          "base_uri": "https://localhost:8080/"
        },
        "id": "UnXa6D-EUz43",
        "outputId": "3c3bbd00-5f03-4995-c018-5070ac4fd983"
      },
      "outputs": [
        {
          "name": "stdout",
          "output_type": "stream",
          "text": [
            "time: 474 ms (started: 2024-03-05 16:49:40 +00:00)\n"
          ]
        }
      ],
      "source": [
        "wc = WordCloud(max_words = 1000 , width = 1600 , height = 800,\n",
        "              collocations=False).generate(\" \".join(data_pos))"
      ]
    },
    {
      "cell_type": "code",
      "execution_count": null,
      "metadata": {
        "colab": {
          "base_uri": "https://localhost:8080/",
          "height": 583
        },
        "id": "3k2DHo09U5Ti",
        "outputId": "6990c321-ffc9-49f4-94d9-e95449ecd57c"
      },
      "outputs": [
        {
          "data": {
            "image/png": "[encoded data removed]",
            "text/plain": [
              "<PIL.Image.Image image mode=RGB size=1600x800>"
            ]
          },
          "execution_count": 312,
          "metadata": {},
          "output_type": "execute_result"
        },
        {
          "name": "stdout",
          "output_type": "stream",
          "text": [
            "time: 125 ms (started: 2024-03-05 16:49:41 +00:00)\n"
          ]
        }
      ],
      "source": [
        "wc.to_image()"
      ]
    },
    {
      "cell_type": "code",
      "execution_count": null,
      "metadata": {
        "colab": {
          "base_uri": "https://localhost:8080/"
        },
        "id": "qXFZGjFdUHKv",
        "outputId": "8ced56aa-c61f-45ef-c535-6839204e618d"
      },
      "outputs": [
        {
          "name": "stdout",
          "output_type": "stream",
          "text": [
            "time: 139 ms (started: 2024-03-05 16:49:41 +00:00)\n"
          ]
        }
      ],
      "source": []
    },
    {
      "cell_type": "code",
      "execution_count": null,
      "metadata": {
        "colab": {
          "base_uri": "https://localhost:8080/",
          "height": 615
        },
        "id": "wh5tZvQhPWYc",
        "outputId": "b5966c4a-8916-4f88-ab27-5e04765b4297"
      },
      "outputs": [
        {
          "data": {
            "text/plain": [
              "<matplotlib.image.AxesImage at 0x7cb04fac4370>"
            ]
          },
          "execution_count": 313,
          "metadata": {},
          "output_type": "execute_result"
        },
        {
          "data": {
            "image/png": "[encoded data removed]",
            "text/plain": [
              "<Figure size 2000x2000 with 1 Axes>"
            ]
          },
          "metadata": {},
          "output_type": "display_data"
        },
        {
          "name": "stdout",
          "output_type": "stream",
          "text": [
            "time: 1.15 s (started: 2024-03-05 16:49:41 +00:00)\n"
          ]
        }
      ],
      "source": [
        "plt.figure(figsize = (20,20))\n",
        "plt.imshow(wc)"
      ]
    },
    {
      "cell_type": "code",
      "execution_count": null,
      "metadata": {
        "colab": {
          "base_uri": "https://localhost:8080/"
        },
        "id": "XyEPHxQYVZvW",
        "outputId": "a290d962-5dea-462c-9ed9-a64bf52e152a"
      },
      "outputs": [
        {
          "name": "stdout",
          "output_type": "stream",
          "text": [
            "time: 513 µs (started: 2024-03-05 16:49:42 +00:00)\n"
          ]
        }
      ],
      "source": [
        "from sklearn.model_selection import train_test_split"
      ]
    },
    {
      "cell_type": "code",
      "execution_count": null,
      "metadata": {
        "colab": {
          "base_uri": "https://localhost:8080/"
        },
        "id": "NG0KURFaVZpn",
        "outputId": "54e659ce-a394-4cd6-b8bd-db282cec3cce"
      },
      "outputs": [
        {
          "name": "stdout",
          "output_type": "stream",
          "text": [
            "time: 647 µs (started: 2024-03-05 16:49:42 +00:00)\n"
          ]
        }
      ],
      "source": [
        "# Option 1: Provide two arrays\n",
        "X = [1]\n",
        "y = [2]\n",
        "\n"
      ]
    },
    {
      "cell_type": "code",
      "execution_count": null,
      "metadata": {
        "colab": {
          "base_uri": "https://localhost:8080/"
        },
        "id": "HtBzvDDMWO_0",
        "outputId": "7fba170e-9cf3-4548-baf7-1ec8e9605d0f"
      },
      "outputs": [
        {
          "name": "stdout",
          "output_type": "stream",
          "text": [
            "time: 1.4 ms (started: 2024-03-05 16:49:42 +00:00)\n"
          ]
        }
      ],
      "source": [
        "X = np.array(X)"
      ]
    },
    {
      "cell_type": "code",
      "execution_count": null,
      "metadata": {
        "colab": {
          "base_uri": "https://localhost:8080/"
        },
        "id": "mdtUkYlbWG9R",
        "outputId": "320a3cd3-6b1e-4a1f-8ed8-02bbd5e90f90"
      },
      "outputs": [
        {
          "name": "stdout",
          "output_type": "stream",
          "text": [
            "(1,)\n",
            "time: 606 µs (started: 2024-03-05 16:49:42 +00:00)\n"
          ]
        }
      ],
      "source": [
        "print(X.shape)"
      ]
    },
    {
      "cell_type": "code",
      "execution_count": null,
      "metadata": {
        "colab": {
          "base_uri": "https://localhost:8080/"
        },
        "id": "xNQvQtqJWG3U",
        "outputId": "220343bf-6833-471c-fddd-59b74666b6f1"
      },
      "outputs": [
        {
          "name": "stdout",
          "output_type": "stream",
          "text": [
            "time: 694 µs (started: 2024-03-05 16:49:42 +00:00)\n"
          ]
        }
      ],
      "source": [
        "if isinstance(X, pd.DataFrame):\n",
        "  print(f\"Number of rows in X: {len(X)}\")"
      ]
    },
    {
      "cell_type": "code",
      "execution_count": null,
      "metadata": {
        "colab": {
          "base_uri": "https://localhost:8080/"
        },
        "id": "k5y5FvpFW3Ep",
        "outputId": "1a584df1-eeab-4ad2-96ac-68a95bff4c4e"
      },
      "outputs": [
        {
          "name": "stdout",
          "output_type": "stream",
          "text": [
            "True\n",
            "time: 638 µs (started: 2024-03-05 16:49:42 +00:00)\n"
          ]
        }
      ],
      "source": [
        "print(\"X_train\" in globals())"
      ]
    },
    {
      "cell_type": "code",
      "execution_count": null,
      "metadata": {
        "colab": {
          "base_uri": "https://localhost:8080/"
        },
        "id": "DuzGSZTlXaDN",
        "outputId": "4380f5c2-dd05-4d31-aec8-a1952551ccc5"
      },
      "outputs": [
        {
          "name": "stdout",
          "output_type": "stream",
          "text": [
            "Stored 'X_train' (ellipsis)\n",
            "time: 3.89 ms (started: 2024-03-05 16:49:42 +00:00)\n"
          ]
        }
      ],
      "source": [
        "# Define and assign a value to X_train\n",
        "X_train = ...  # Your data or value assignment\n",
        "\n",
        "# Store the variable\n",
        "%store X_train\n"
      ]
    },
    {
      "cell_type": "code",
      "execution_count": null,
      "metadata": {
        "colab": {
          "base_uri": "https://localhost:8080/"
        },
        "id": "c1TsPvk2W6wM",
        "outputId": "e80e454c-038b-468d-c623-5e79319edebe"
      },
      "outputs": [
        {
          "name": "stdout",
          "output_type": "stream",
          "text": [
            "Stored 'X_train' (ellipsis)\n",
            "time: 2.78 ms (started: 2024-03-05 16:49:42 +00:00)\n"
          ]
        }
      ],
      "source": [
        "%store X_train"
      ]
    },
    {
      "cell_type": "code",
      "execution_count": null,
      "metadata": {
        "colab": {
          "base_uri": "https://localhost:8080/"
        },
        "id": "pJtPECf1Xnua",
        "outputId": "977f97f8-4821-4a67-8845-cf2d84336672"
      },
      "outputs": [
        {
          "name": "stdout",
          "output_type": "stream",
          "text": [
            "time: 519 µs (started: 2024-03-05 16:49:42 +00:00)\n"
          ]
        }
      ],
      "source": [
        "X_train = ['This is the first document.', 'This is the second document.', ...]\n"
      ]
    },
    {
      "cell_type": "code",
      "execution_count": null,
      "metadata": {
        "colab": {
          "base_uri": "https://localhost:8080/"
        },
        "id": "b112R7tjXwLc",
        "outputId": "7a001a12-9fa5-44a0-8016-4f56889cb0e8"
      },
      "outputs": [
        {
          "name": "stdout",
          "output_type": "stream",
          "text": [
            "time: 631 µs (started: 2024-03-05 16:49:42 +00:00)\n"
          ]
        }
      ],
      "source": [
        "vectoriser = TfidfVectorizer(ngram_range=(1,2), max_features=500000)"
      ]
    },
    {
      "cell_type": "code",
      "execution_count": null,
      "metadata": {
        "colab": {
          "base_uri": "https://localhost:8080/"
        },
        "id": "wgbhctMxX7G-",
        "outputId": "2372921e-dcd8-4a64-e875-6b2984ce03ee"
      },
      "outputs": [
        {
          "name": "stdout",
          "output_type": "stream",
          "text": [
            "time: 546 µs (started: 2024-03-05 16:49:42 +00:00)\n"
          ]
        }
      ],
      "source": [
        "X_train = np.array(X_train)"
      ]
    },
    {
      "cell_type": "code",
      "execution_count": null,
      "metadata": {
        "colab": {
          "base_uri": "https://localhost:8080/"
        },
        "id": "nefcPtzEYIR6",
        "outputId": "67a2f69b-870b-4b76-a0c3-bf5d4d56725d"
      },
      "outputs": [
        {
          "name": "stdout",
          "output_type": "stream",
          "text": [
            "<class 'numpy.ndarray'>\n",
            "['This is the first document.' 'This is the second document.' Ellipsis]\n",
            "time: 898 µs (started: 2024-03-05 16:49:42 +00:00)\n"
          ]
        }
      ],
      "source": [
        "print(type(X_train))\n",
        "print(X_train)"
      ]
    },
    {
      "cell_type": "code",
      "execution_count": null,
      "metadata": {
        "colab": {
          "base_uri": "https://localhost:8080/"
        },
        "id": "s3V6S5UIYIMI",
        "outputId": "797a6c92-281f-428c-87a6-8ddbe4d5c548"
      },
      "outputs": [
        {
          "name": "stdout",
          "output_type": "stream",
          "text": [
            "<class 'sklearn.feature_extraction.text.TfidfVectorizer'>\n",
            "TfidfVectorizer(max_features=500000, ngram_range=(1, 2))\n",
            "time: 1.41 ms (started: 2024-03-05 16:49:42 +00:00)\n"
          ]
        }
      ],
      "source": [
        "print(type(vectoriser))\n",
        "print(vectoriser)"
      ]
    },
    {
      "cell_type": "code",
      "execution_count": null,
      "metadata": {
        "colab": {
          "base_uri": "https://localhost:8080/"
        },
        "id": "oe7gQUnPYiXS",
        "outputId": "916aa702-044e-4fe8-bdfe-b62524fa8124"
      },
      "outputs": [
        {
          "name": "stdout",
          "output_type": "stream",
          "text": [
            "None\n",
            "None\n",
            "time: 2.38 ms (started: 2024-03-05 16:49:42 +00:00)\n"
          ]
        }
      ],
      "source": [
        "# Investigate the preprocessor function\n",
        "print(vectoriser.preprocessor)\n",
        "\n",
        "# If the preprocessor is not explicitly defined, check if the TfidfVectorizer object has a preprocessor attribute\n",
        "if not hasattr(vectoriser, \"preprocessor\"):\n",
        "    print(\"TfidfVectorizer object does not have a preprocessor attribute.\")\n",
        "else:\n",
        "    print(vectoriser.preprocessor)\n",
        "\n",
        "# Modify the preprocessor function or replace the TfidfVectorizer object as needed"
      ]
    },
    {
      "cell_type": "code",
      "execution_count": null,
      "metadata": {
        "colab": {
          "background_save": true,
          "base_uri": "https://localhost:8080/"
        },
        "id": "HQcIFVxAZD9N",
        "outputId": "202fac52-afc5-49e0-d41f-9e318cd4b8c3"
      },
      "outputs": [
        {
          "name": "stdout",
          "output_type": "stream",
          "text": [
            "time: 504 µs (started: 2024-03-05 16:49:42 +00:00)\n"
          ]
        }
      ],
      "source": [
        "from sklearn.feature_extraction.text import TfidfVectorizer"
      ]
    },
    {
      "cell_type": "code",
      "execution_count": null,
      "metadata": {
        "colab": {
          "background_save": true,
          "base_uri": "https://localhost:8080/",
          "height": 275
        },
        "id": "YAV35rnHZD3I",
        "outputId": "8a49c1ae-3eda-47a4-81ab-7138f7301485"
      },
      "outputs": [
        {
          "data": {
            "text/html": [
              "<div style=\"max-width:800px; border: 1px solid var(--colab-border-color);\"><style>\n",
              "      pre.function-repr-contents {\n",
              "        overflow-x: auto;\n",
              "        padding: 8px 12px;\n",
              "        max-height: 500px;\n",
              "      }\n",
              "\n",
              "      pre.function-repr-contents.function-repr-contents-collapsed {\n",
              "        cursor: pointer;\n",
              "        max-height: 100px;\n",
              "      }\n",
              "    </style>\n",
              "    <pre style=\"white-space: initial; background:\n",
              "         var(--colab-secondary-surface-color); padding: 8px 12px;\n",
              "         border-bottom: 1px solid var(--colab-border-color);\"><b>sklearn.feature_extraction.text.TfidfVectorizer</b><br/>def __init__(*, input=&#x27;content&#x27;, encoding=&#x27;utf-8&#x27;, decode_error=&#x27;strict&#x27;, strip_accents=None, lowercase=True, preprocessor=None, tokenizer=None, analyzer=&#x27;word&#x27;, stop_words=None, token_pattern=&#x27;(?u)\\\\b\\\\w\\\\w+\\\\b&#x27;, ngram_range=(1, 1), max_df=1.0, min_df=1, max_features=None, vocabulary=None, binary=False, dtype=np.float64, norm=&#x27;l2&#x27;, use_idf=True, smooth_idf=True, sublinear_tf=False)</pre><pre class=\"function-repr-contents function-repr-contents-collapsed\" style=\"\"><a class=\"filepath\" style=\"display:none\" href=\"#\">/usr/local/lib/python3.10/dist-packages/sklearn/feature_extraction/text.py</a>Convert a collection of raw documents to a matrix of TF-IDF features.\n",
              "\n",
              "Equivalent to :class:`CountVectorizer` followed by\n",
              ":class:`TfidfTransformer`.\n",
              "\n",
              "Read more in the :ref:`User Guide &lt;text_feature_extraction&gt;`.\n",
              "\n",
              "Parameters\n",
              "----------\n",
              "input : {&#x27;filename&#x27;, &#x27;file&#x27;, &#x27;content&#x27;}, default=&#x27;content&#x27;\n",
              "    - If `&#x27;filename&#x27;`, the sequence passed as an argument to fit is\n",
              "      expected to be a list of filenames that need reading to fetch\n",
              "      the raw content to analyze.\n",
              "\n",
              "    - If `&#x27;file&#x27;`, the sequence items must have a &#x27;read&#x27; method (file-like\n",
              "      object) that is called to fetch the bytes in memory.\n",
              "\n",
              "    - If `&#x27;content&#x27;`, the input is expected to be a sequence of items that\n",
              "      can be of type string or byte.\n",
              "\n",
              "encoding : str, default=&#x27;utf-8&#x27;\n",
              "    If bytes or files are given to analyze, this encoding is used to\n",
              "    decode.\n",
              "\n",
              "decode_error : {&#x27;strict&#x27;, &#x27;ignore&#x27;, &#x27;replace&#x27;}, default=&#x27;strict&#x27;\n",
              "    Instruction on what to do if a byte sequence is given to analyze that\n",
              "    contains characters not of the given `encoding`. By default, it is\n",
              "    &#x27;strict&#x27;, meaning that a UnicodeDecodeError will be raised. Other\n",
              "    values are &#x27;ignore&#x27; and &#x27;replace&#x27;.\n",
              "\n",
              "strip_accents : {&#x27;ascii&#x27;, &#x27;unicode&#x27;} or callable, default=None\n",
              "    Remove accents and perform other character normalization\n",
              "    during the preprocessing step.\n",
              "    &#x27;ascii&#x27; is a fast method that only works on characters that have\n",
              "    a direct ASCII mapping.\n",
              "    &#x27;unicode&#x27; is a slightly slower method that works on any characters.\n",
              "    None (default) does nothing.\n",
              "\n",
              "    Both &#x27;ascii&#x27; and &#x27;unicode&#x27; use NFKD normalization from\n",
              "    :func:`unicodedata.normalize`.\n",
              "\n",
              "lowercase : bool, default=True\n",
              "    Convert all characters to lowercase before tokenizing.\n",
              "\n",
              "preprocessor : callable, default=None\n",
              "    Override the preprocessing (string transformation) stage while\n",
              "    preserving the tokenizing and n-grams generation steps.\n",
              "    Only applies if ``analyzer`` is not callable.\n",
              "\n",
              "tokenizer : callable, default=None\n",
              "    Override the string tokenization step while preserving the\n",
              "    preprocessing and n-grams generation steps.\n",
              "    Only applies if ``analyzer == &#x27;word&#x27;``.\n",
              "\n",
              "analyzer : {&#x27;word&#x27;, &#x27;char&#x27;, &#x27;char_wb&#x27;} or callable, default=&#x27;word&#x27;\n",
              "    Whether the feature should be made of word or character n-grams.\n",
              "    Option &#x27;char_wb&#x27; creates character n-grams only from text inside\n",
              "    word boundaries; n-grams at the edges of words are padded with space.\n",
              "\n",
              "    If a callable is passed it is used to extract the sequence of features\n",
              "    out of the raw, unprocessed input.\n",
              "\n",
              "    .. versionchanged:: 0.21\n",
              "        Since v0.21, if ``input`` is ``&#x27;filename&#x27;`` or ``&#x27;file&#x27;``, the data\n",
              "        is first read from the file and then passed to the given callable\n",
              "        analyzer.\n",
              "\n",
              "stop_words : {&#x27;english&#x27;}, list, default=None\n",
              "    If a string, it is passed to _check_stop_list and the appropriate stop\n",
              "    list is returned. &#x27;english&#x27; is currently the only supported string\n",
              "    value.\n",
              "    There are several known issues with &#x27;english&#x27; and you should\n",
              "    consider an alternative (see :ref:`stop_words`).\n",
              "\n",
              "    If a list, that list is assumed to contain stop words, all of which\n",
              "    will be removed from the resulting tokens.\n",
              "    Only applies if ``analyzer == &#x27;word&#x27;``.\n",
              "\n",
              "    If None, no stop words will be used. In this case, setting `max_df`\n",
              "    to a higher value, such as in the range (0.7, 1.0), can automatically detect\n",
              "    and filter stop words based on intra corpus document frequency of terms.\n",
              "\n",
              "token_pattern : str, default=r&quot;(?u)\\\\b\\\\w\\\\w+\\\\b&quot;\n",
              "    Regular expression denoting what constitutes a &quot;token&quot;, only used\n",
              "    if ``analyzer == &#x27;word&#x27;``. The default regexp selects tokens of 2\n",
              "    or more alphanumeric characters (punctuation is completely ignored\n",
              "    and always treated as a token separator).\n",
              "\n",
              "    If there is a capturing group in token_pattern then the\n",
              "    captured group content, not the entire match, becomes the token.\n",
              "    At most one capturing group is permitted.\n",
              "\n",
              "ngram_range : tuple (min_n, max_n), default=(1, 1)\n",
              "    The lower and upper boundary of the range of n-values for different\n",
              "    n-grams to be extracted. All values of n such that min_n &lt;= n &lt;= max_n\n",
              "    will be used. For example an ``ngram_range`` of ``(1, 1)`` means only\n",
              "    unigrams, ``(1, 2)`` means unigrams and bigrams, and ``(2, 2)`` means\n",
              "    only bigrams.\n",
              "    Only applies if ``analyzer`` is not callable.\n",
              "\n",
              "max_df : float or int, default=1.0\n",
              "    When building the vocabulary ignore terms that have a document\n",
              "    frequency strictly higher than the given threshold (corpus-specific\n",
              "    stop words).\n",
              "    If float in range [0.0, 1.0], the parameter represents a proportion of\n",
              "    documents, integer absolute counts.\n",
              "    This parameter is ignored if vocabulary is not None.\n",
              "\n",
              "min_df : float or int, default=1\n",
              "    When building the vocabulary ignore terms that have a document\n",
              "    frequency strictly lower than the given threshold. This value is also\n",
              "    called cut-off in the literature.\n",
              "    If float in range of [0.0, 1.0], the parameter represents a proportion\n",
              "    of documents, integer absolute counts.\n",
              "    This parameter is ignored if vocabulary is not None.\n",
              "\n",
              "max_features : int, default=None\n",
              "    If not None, build a vocabulary that only consider the top\n",
              "    `max_features` ordered by term frequency across the corpus.\n",
              "    Otherwise, all features are used.\n",
              "\n",
              "    This parameter is ignored if vocabulary is not None.\n",
              "\n",
              "vocabulary : Mapping or iterable, default=None\n",
              "    Either a Mapping (e.g., a dict) where keys are terms and values are\n",
              "    indices in the feature matrix, or an iterable over terms. If not\n",
              "    given, a vocabulary is determined from the input documents.\n",
              "\n",
              "binary : bool, default=False\n",
              "    If True, all non-zero term counts are set to 1. This does not mean\n",
              "    outputs will have only 0/1 values, only that the tf term in tf-idf\n",
              "    is binary. (Set idf and normalization to False to get 0/1 outputs).\n",
              "\n",
              "dtype : dtype, default=float64\n",
              "    Type of the matrix returned by fit_transform() or transform().\n",
              "\n",
              "norm : {&#x27;l1&#x27;, &#x27;l2&#x27;} or None, default=&#x27;l2&#x27;\n",
              "    Each output row will have unit norm, either:\n",
              "\n",
              "    - &#x27;l2&#x27;: Sum of squares of vector elements is 1. The cosine\n",
              "      similarity between two vectors is their dot product when l2 norm has\n",
              "      been applied.\n",
              "    - &#x27;l1&#x27;: Sum of absolute values of vector elements is 1.\n",
              "      See :func:`preprocessing.normalize`.\n",
              "    - None: No normalization.\n",
              "\n",
              "use_idf : bool, default=True\n",
              "    Enable inverse-document-frequency reweighting. If False, idf(t) = 1.\n",
              "\n",
              "smooth_idf : bool, default=True\n",
              "    Smooth idf weights by adding one to document frequencies, as if an\n",
              "    extra document was seen containing every term in the collection\n",
              "    exactly once. Prevents zero divisions.\n",
              "\n",
              "sublinear_tf : bool, default=False\n",
              "    Apply sublinear tf scaling, i.e. replace tf with 1 + log(tf).\n",
              "\n",
              "Attributes\n",
              "----------\n",
              "vocabulary_ : dict\n",
              "    A mapping of terms to feature indices.\n",
              "\n",
              "fixed_vocabulary_ : bool\n",
              "    True if a fixed vocabulary of term to indices mapping\n",
              "    is provided by the user.\n",
              "\n",
              "idf_ : array of shape (n_features,)\n",
              "    The inverse document frequency (IDF) vector; only defined\n",
              "    if ``use_idf`` is True.\n",
              "\n",
              "stop_words_ : set\n",
              "    Terms that were ignored because they either:\n",
              "\n",
              "      - occurred in too many documents (`max_df`)\n",
              "      - occurred in too few documents (`min_df`)\n",
              "      - were cut off by feature selection (`max_features`).\n",
              "\n",
              "    This is only available if no vocabulary was given.\n",
              "\n",
              "See Also\n",
              "--------\n",
              "CountVectorizer : Transforms text into a sparse matrix of n-gram counts.\n",
              "\n",
              "TfidfTransformer : Performs the TF-IDF transformation from a provided\n",
              "    matrix of counts.\n",
              "\n",
              "Notes\n",
              "-----\n",
              "The ``stop_words_`` attribute can get large and increase the model size\n",
              "when pickling. This attribute is provided only for introspection and can\n",
              "be safely removed using delattr or set to None before pickling.\n",
              "\n",
              "Examples\n",
              "--------\n",
              "&gt;&gt;&gt; from sklearn.feature_extraction.text import TfidfVectorizer\n",
              "&gt;&gt;&gt; corpus = [\n",
              "...     &#x27;This is the first document.&#x27;,\n",
              "...     &#x27;This document is the second document.&#x27;,\n",
              "...     &#x27;And this is the third one.&#x27;,\n",
              "...     &#x27;Is this the first document?&#x27;,\n",
              "... ]\n",
              "&gt;&gt;&gt; vectorizer = TfidfVectorizer()\n",
              "&gt;&gt;&gt; X = vectorizer.fit_transform(corpus)\n",
              "&gt;&gt;&gt; vectorizer.get_feature_names_out()\n",
              "array([&#x27;and&#x27;, &#x27;document&#x27;, &#x27;first&#x27;, &#x27;is&#x27;, &#x27;one&#x27;, &#x27;second&#x27;, &#x27;the&#x27;, &#x27;third&#x27;,\n",
              "       &#x27;this&#x27;], ...)\n",
              "&gt;&gt;&gt; print(X.shape)\n",
              "(4, 9)</pre>\n",
              "      <script>\n",
              "      if (google.colab.kernel.accessAllowed && google.colab.files && google.colab.files.view) {\n",
              "        for (const element of document.querySelectorAll('.filepath')) {\n",
              "          element.style.display = 'block'\n",
              "          element.onclick = (event) => {\n",
              "            event.preventDefault();\n",
              "            event.stopPropagation();\n",
              "            google.colab.files.view(element.textContent, 1758);\n",
              "          };\n",
              "        }\n",
              "      }\n",
              "      for (const element of document.querySelectorAll('.function-repr-contents')) {\n",
              "        element.onclick = (event) => {\n",
              "          event.preventDefault();\n",
              "          event.stopPropagation();\n",
              "          element.classList.toggle('function-repr-contents-collapsed');\n",
              "        };\n",
              "      }\n",
              "      </script>\n",
              "      </div>"
            ],
            "text/plain": [
              "sklearn.feature_extraction.text.TfidfVectorizer"
            ]
          },
          "execution_count": 329,
          "metadata": {},
          "output_type": "execute_result"
        },
        {
          "name": "stdout",
          "output_type": "stream",
          "text": [
            "time: 66.3 ms (started: 2024-03-05 16:49:42 +00:00)\n"
          ]
        }
      ],
      "source": [
        "type(vectoriser)"
      ]
    },
    {
      "cell_type": "code",
      "execution_count": null,
      "metadata": {
        "colab": {
          "background_save": true,
          "base_uri": "https://localhost:8080/",
          "height": 275
        },
        "id": "TgXpq2kPZDxK",
        "outputId": "e993d042-a139-42b0-9d19-d164230a0526"
      },
      "outputs": [
        {
          "data": {
            "text/html": [
              "<div style=\"max-width:800px; border: 1px solid var(--colab-border-color);\"><style>\n",
              "      pre.function-repr-contents {\n",
              "        overflow-x: auto;\n",
              "        padding: 8px 12px;\n",
              "        max-height: 500px;\n",
              "      }\n",
              "\n",
              "      pre.function-repr-contents.function-repr-contents-collapsed {\n",
              "        cursor: pointer;\n",
              "        max-height: 100px;\n",
              "      }\n",
              "    </style>\n",
              "    <pre style=\"white-space: initial; background:\n",
              "         var(--colab-secondary-surface-color); padding: 8px 12px;\n",
              "         border-bottom: 1px solid var(--colab-border-color);\"><b>sklearn.feature_extraction.text.TfidfVectorizer</b><br/>def __init__(*, input=&#x27;content&#x27;, encoding=&#x27;utf-8&#x27;, decode_error=&#x27;strict&#x27;, strip_accents=None, lowercase=True, preprocessor=None, tokenizer=None, analyzer=&#x27;word&#x27;, stop_words=None, token_pattern=&#x27;(?u)\\\\b\\\\w\\\\w+\\\\b&#x27;, ngram_range=(1, 1), max_df=1.0, min_df=1, max_features=None, vocabulary=None, binary=False, dtype=np.float64, norm=&#x27;l2&#x27;, use_idf=True, smooth_idf=True, sublinear_tf=False)</pre><pre class=\"function-repr-contents function-repr-contents-collapsed\" style=\"\"><a class=\"filepath\" style=\"display:none\" href=\"#\">/usr/local/lib/python3.10/dist-packages/sklearn/feature_extraction/text.py</a>Convert a collection of raw documents to a matrix of TF-IDF features.\n",
              "\n",
              "Equivalent to :class:`CountVectorizer` followed by\n",
              ":class:`TfidfTransformer`.\n",
              "\n",
              "Read more in the :ref:`User Guide &lt;text_feature_extraction&gt;`.\n",
              "\n",
              "Parameters\n",
              "----------\n",
              "input : {&#x27;filename&#x27;, &#x27;file&#x27;, &#x27;content&#x27;}, default=&#x27;content&#x27;\n",
              "    - If `&#x27;filename&#x27;`, the sequence passed as an argument to fit is\n",
              "      expected to be a list of filenames that need reading to fetch\n",
              "      the raw content to analyze.\n",
              "\n",
              "    - If `&#x27;file&#x27;`, the sequence items must have a &#x27;read&#x27; method (file-like\n",
              "      object) that is called to fetch the bytes in memory.\n",
              "\n",
              "    - If `&#x27;content&#x27;`, the input is expected to be a sequence of items that\n",
              "      can be of type string or byte.\n",
              "\n",
              "encoding : str, default=&#x27;utf-8&#x27;\n",
              "    If bytes or files are given to analyze, this encoding is used to\n",
              "    decode.\n",
              "\n",
              "decode_error : {&#x27;strict&#x27;, &#x27;ignore&#x27;, &#x27;replace&#x27;}, default=&#x27;strict&#x27;\n",
              "    Instruction on what to do if a byte sequence is given to analyze that\n",
              "    contains characters not of the given `encoding`. By default, it is\n",
              "    &#x27;strict&#x27;, meaning that a UnicodeDecodeError will be raised. Other\n",
              "    values are &#x27;ignore&#x27; and &#x27;replace&#x27;.\n",
              "\n",
              "strip_accents : {&#x27;ascii&#x27;, &#x27;unicode&#x27;} or callable, default=None\n",
              "    Remove accents and perform other character normalization\n",
              "    during the preprocessing step.\n",
              "    &#x27;ascii&#x27; is a fast method that only works on characters that have\n",
              "    a direct ASCII mapping.\n",
              "    &#x27;unicode&#x27; is a slightly slower method that works on any characters.\n",
              "    None (default) does nothing.\n",
              "\n",
              "    Both &#x27;ascii&#x27; and &#x27;unicode&#x27; use NFKD normalization from\n",
              "    :func:`unicodedata.normalize`.\n",
              "\n",
              "lowercase : bool, default=True\n",
              "    Convert all characters to lowercase before tokenizing.\n",
              "\n",
              "preprocessor : callable, default=None\n",
              "    Override the preprocessing (string transformation) stage while\n",
              "    preserving the tokenizing and n-grams generation steps.\n",
              "    Only applies if ``analyzer`` is not callable.\n",
              "\n",
              "tokenizer : callable, default=None\n",
              "    Override the string tokenization step while preserving the\n",
              "    preprocessing and n-grams generation steps.\n",
              "    Only applies if ``analyzer == &#x27;word&#x27;``.\n",
              "\n",
              "analyzer : {&#x27;word&#x27;, &#x27;char&#x27;, &#x27;char_wb&#x27;} or callable, default=&#x27;word&#x27;\n",
              "    Whether the feature should be made of word or character n-grams.\n",
              "    Option &#x27;char_wb&#x27; creates character n-grams only from text inside\n",
              "    word boundaries; n-grams at the edges of words are padded with space.\n",
              "\n",
              "    If a callable is passed it is used to extract the sequence of features\n",
              "    out of the raw, unprocessed input.\n",
              "\n",
              "    .. versionchanged:: 0.21\n",
              "        Since v0.21, if ``input`` is ``&#x27;filename&#x27;`` or ``&#x27;file&#x27;``, the data\n",
              "        is first read from the file and then passed to the given callable\n",
              "        analyzer.\n",
              "\n",
              "stop_words : {&#x27;english&#x27;}, list, default=None\n",
              "    If a string, it is passed to _check_stop_list and the appropriate stop\n",
              "    list is returned. &#x27;english&#x27; is currently the only supported string\n",
              "    value.\n",
              "    There are several known issues with &#x27;english&#x27; and you should\n",
              "    consider an alternative (see :ref:`stop_words`).\n",
              "\n",
              "    If a list, that list is assumed to contain stop words, all of which\n",
              "    will be removed from the resulting tokens.\n",
              "    Only applies if ``analyzer == &#x27;word&#x27;``.\n",
              "\n",
              "    If None, no stop words will be used. In this case, setting `max_df`\n",
              "    to a higher value, such as in the range (0.7, 1.0), can automatically detect\n",
              "    and filter stop words based on intra corpus document frequency of terms.\n",
              "\n",
              "token_pattern : str, default=r&quot;(?u)\\\\b\\\\w\\\\w+\\\\b&quot;\n",
              "    Regular expression denoting what constitutes a &quot;token&quot;, only used\n",
              "    if ``analyzer == &#x27;word&#x27;``. The default regexp selects tokens of 2\n",
              "    or more alphanumeric characters (punctuation is completely ignored\n",
              "    and always treated as a token separator).\n",
              "\n",
              "    If there is a capturing group in token_pattern then the\n",
              "    captured group content, not the entire match, becomes the token.\n",
              "    At most one capturing group is permitted.\n",
              "\n",
              "ngram_range : tuple (min_n, max_n), default=(1, 1)\n",
              "    The lower and upper boundary of the range of n-values for different\n",
              "    n-grams to be extracted. All values of n such that min_n &lt;= n &lt;= max_n\n",
              "    will be used. For example an ``ngram_range`` of ``(1, 1)`` means only\n",
              "    unigrams, ``(1, 2)`` means unigrams and bigrams, and ``(2, 2)`` means\n",
              "    only bigrams.\n",
              "    Only applies if ``analyzer`` is not callable.\n",
              "\n",
              "max_df : float or int, default=1.0\n",
              "    When building the vocabulary ignore terms that have a document\n",
              "    frequency strictly higher than the given threshold (corpus-specific\n",
              "    stop words).\n",
              "    If float in range [0.0, 1.0], the parameter represents a proportion of\n",
              "    documents, integer absolute counts.\n",
              "    This parameter is ignored if vocabulary is not None.\n",
              "\n",
              "min_df : float or int, default=1\n",
              "    When building the vocabulary ignore terms that have a document\n",
              "    frequency strictly lower than the given threshold. This value is also\n",
              "    called cut-off in the literature.\n",
              "    If float in range of [0.0, 1.0], the parameter represents a proportion\n",
              "    of documents, integer absolute counts.\n",
              "    This parameter is ignored if vocabulary is not None.\n",
              "\n",
              "max_features : int, default=None\n",
              "    If not None, build a vocabulary that only consider the top\n",
              "    `max_features` ordered by term frequency across the corpus.\n",
              "    Otherwise, all features are used.\n",
              "\n",
              "    This parameter is ignored if vocabulary is not None.\n",
              "\n",
              "vocabulary : Mapping or iterable, default=None\n",
              "    Either a Mapping (e.g., a dict) where keys are terms and values are\n",
              "    indices in the feature matrix, or an iterable over terms. If not\n",
              "    given, a vocabulary is determined from the input documents.\n",
              "\n",
              "binary : bool, default=False\n",
              "    If True, all non-zero term counts are set to 1. This does not mean\n",
              "    outputs will have only 0/1 values, only that the tf term in tf-idf\n",
              "    is binary. (Set idf and normalization to False to get 0/1 outputs).\n",
              "\n",
              "dtype : dtype, default=float64\n",
              "    Type of the matrix returned by fit_transform() or transform().\n",
              "\n",
              "norm : {&#x27;l1&#x27;, &#x27;l2&#x27;} or None, default=&#x27;l2&#x27;\n",
              "    Each output row will have unit norm, either:\n",
              "\n",
              "    - &#x27;l2&#x27;: Sum of squares of vector elements is 1. The cosine\n",
              "      similarity between two vectors is their dot product when l2 norm has\n",
              "      been applied.\n",
              "    - &#x27;l1&#x27;: Sum of absolute values of vector elements is 1.\n",
              "      See :func:`preprocessing.normalize`.\n",
              "    - None: No normalization.\n",
              "\n",
              "use_idf : bool, default=True\n",
              "    Enable inverse-document-frequency reweighting. If False, idf(t) = 1.\n",
              "\n",
              "smooth_idf : bool, default=True\n",
              "    Smooth idf weights by adding one to document frequencies, as if an\n",
              "    extra document was seen containing every term in the collection\n",
              "    exactly once. Prevents zero divisions.\n",
              "\n",
              "sublinear_tf : bool, default=False\n",
              "    Apply sublinear tf scaling, i.e. replace tf with 1 + log(tf).\n",
              "\n",
              "Attributes\n",
              "----------\n",
              "vocabulary_ : dict\n",
              "    A mapping of terms to feature indices.\n",
              "\n",
              "fixed_vocabulary_ : bool\n",
              "    True if a fixed vocabulary of term to indices mapping\n",
              "    is provided by the user.\n",
              "\n",
              "idf_ : array of shape (n_features,)\n",
              "    The inverse document frequency (IDF) vector; only defined\n",
              "    if ``use_idf`` is True.\n",
              "\n",
              "stop_words_ : set\n",
              "    Terms that were ignored because they either:\n",
              "\n",
              "      - occurred in too many documents (`max_df`)\n",
              "      - occurred in too few documents (`min_df`)\n",
              "      - were cut off by feature selection (`max_features`).\n",
              "\n",
              "    This is only available if no vocabulary was given.\n",
              "\n",
              "See Also\n",
              "--------\n",
              "CountVectorizer : Transforms text into a sparse matrix of n-gram counts.\n",
              "\n",
              "TfidfTransformer : Performs the TF-IDF transformation from a provided\n",
              "    matrix of counts.\n",
              "\n",
              "Notes\n",
              "-----\n",
              "The ``stop_words_`` attribute can get large and increase the model size\n",
              "when pickling. This attribute is provided only for introspection and can\n",
              "be safely removed using delattr or set to None before pickling.\n",
              "\n",
              "Examples\n",
              "--------\n",
              "&gt;&gt;&gt; from sklearn.feature_extraction.text import TfidfVectorizer\n",
              "&gt;&gt;&gt; corpus = [\n",
              "...     &#x27;This is the first document.&#x27;,\n",
              "...     &#x27;This document is the second document.&#x27;,\n",
              "...     &#x27;And this is the third one.&#x27;,\n",
              "...     &#x27;Is this the first document?&#x27;,\n",
              "... ]\n",
              "&gt;&gt;&gt; vectorizer = TfidfVectorizer()\n",
              "&gt;&gt;&gt; X = vectorizer.fit_transform(corpus)\n",
              "&gt;&gt;&gt; vectorizer.get_feature_names_out()\n",
              "array([&#x27;and&#x27;, &#x27;document&#x27;, &#x27;first&#x27;, &#x27;is&#x27;, &#x27;one&#x27;, &#x27;second&#x27;, &#x27;the&#x27;, &#x27;third&#x27;,\n",
              "       &#x27;this&#x27;], ...)\n",
              "&gt;&gt;&gt; print(X.shape)\n",
              "(4, 9)</pre>\n",
              "      <script>\n",
              "      if (google.colab.kernel.accessAllowed && google.colab.files && google.colab.files.view) {\n",
              "        for (const element of document.querySelectorAll('.filepath')) {\n",
              "          element.style.display = 'block'\n",
              "          element.onclick = (event) => {\n",
              "            event.preventDefault();\n",
              "            event.stopPropagation();\n",
              "            google.colab.files.view(element.textContent, 1758);\n",
              "          };\n",
              "        }\n",
              "      }\n",
              "      for (const element of document.querySelectorAll('.function-repr-contents')) {\n",
              "        element.onclick = (event) => {\n",
              "          event.preventDefault();\n",
              "          event.stopPropagation();\n",
              "          element.classList.toggle('function-repr-contents-collapsed');\n",
              "        };\n",
              "      }\n",
              "      </script>\n",
              "      </div>"
            ],
            "text/plain": [
              "sklearn.feature_extraction.text.TfidfVectorizer"
            ]
          },
          "execution_count": 330,
          "metadata": {},
          "output_type": "execute_result"
        },
        {
          "name": "stdout",
          "output_type": "stream",
          "text": [
            "time: 61.1 ms (started: 2024-03-05 16:49:42 +00:00)\n"
          ]
        }
      ],
      "source": [
        "type(vectoriser)"
      ]
    },
    {
      "cell_type": "code",
      "execution_count": null,
      "metadata": {
        "colab": {
          "background_save": true,
          "base_uri": "https://localhost:8080/"
        },
        "id": "uLrlwsl2ZeL9",
        "outputId": "8936cc3c-3b6c-4941-f3a2-35a6b5539b3d"
      },
      "outputs": [
        {
          "name": "stdout",
          "output_type": "stream",
          "text": [
            "No. of feature_words:  8\n",
            "time: 10 ms (started: 2024-03-05 16:49:43 +00:00)\n"
          ]
        }
      ],
      "source": [
        "# Fit the vectoriser with some text data\n",
        "text_data = [\"This is a sentence\", \"This is another sentence\"]\n",
        "vectoriser.fit(text_data)\n",
        "\n",
        "# Now you can get the feature names\n",
        "print('No. of feature_words: ', len(vectoriser.get_feature_names_out()))"
      ]
    },
    {
      "cell_type": "code",
      "execution_count": null,
      "metadata": {
        "colab": {
          "background_save": true,
          "base_uri": "https://localhost:8080/"
        },
        "id": "fj6yYnhRZwIj",
        "outputId": "926eb74b-0128-4e03-e0fb-626d55d8d4db"
      },
      "outputs": [
        {
          "name": "stdout",
          "output_type": "stream",
          "text": [
            "<class 'str'>\n",
            "This is the first document.\n",
            "time: 5.09 ms (started: 2024-03-05 16:49:43 +00:00)\n"
          ]
        }
      ],
      "source": [
        "print(type(X_train[0]))\n",
        "print(X_train[0])"
      ]
    },
    {
      "cell_type": "code",
      "execution_count": null,
      "metadata": {
        "colab": {
          "base_uri": "https://localhost:8080/"
        },
        "id": "GKm4rTRjZy3b",
        "outputId": "ef8cb314-fbe7-488a-e304-58adce3a5261"
      },
      "outputs": [
        {
          "name": "stdout",
          "output_type": "stream",
          "text": [
            "Requirement already satisfied: spacy in /usr/local/lib/python3.10/dist-packages (3.7.4)\n",
            "Requirement already satisfied: spacy-legacy<3.1.0,>=3.0.11 in /usr/local/lib/python3.10/dist-packages (from spacy) (3.0.12)\n",
            "Requirement already satisfied: spacy-loggers<2.0.0,>=1.0.0 in /usr/local/lib/python3.10/dist-packages (from spacy) (1.0.5)\n",
            "Requirement already satisfied: murmurhash<1.1.0,>=0.28.0 in /usr/local/lib/python3.10/dist-packages (from spacy) (1.0.10)\n",
            "Requirement already satisfied: cymem<2.1.0,>=2.0.2 in /usr/local/lib/python3.10/dist-packages (from spacy) (2.0.8)\n",
            "Requirement already satisfied: preshed<3.1.0,>=3.0.2 in /usr/local/lib/python3.10/dist-packages (from spacy) (3.0.9)\n",
            "Requirement already satisfied: thinc<8.3.0,>=8.2.2 in /usr/local/lib/python3.10/dist-packages (from spacy) (8.2.3)\n",
            "Requirement already satisfied: wasabi<1.2.0,>=0.9.1 in /usr/local/lib/python3.10/dist-packages (from spacy) (1.1.2)\n",
            "Requirement already satisfied: srsly<3.0.0,>=2.4.3 in /usr/local/lib/python3.10/dist-packages (from spacy) (2.4.8)\n",
            "Requirement already satisfied: catalogue<2.1.0,>=2.0.6 in /usr/local/lib/python3.10/dist-packages (from spacy) (2.0.10)\n",
            "Requirement already satisfied: weasel<0.4.0,>=0.1.0 in /usr/local/lib/python3.10/dist-packages (from spacy) (0.3.4)\n",
            "Requirement already satisfied: typer<0.10.0,>=0.3.0 in /usr/local/lib/python3.10/dist-packages (from spacy) (0.9.0)\n",
            "Requirement already satisfied: smart-open<7.0.0,>=5.2.1 in /usr/local/lib/python3.10/dist-packages (from spacy) (6.4.0)\n",
            "Requirement already satisfied: tqdm<5.0.0,>=4.38.0 in /usr/local/lib/python3.10/dist-packages (from spacy) (4.66.2)\n",
            "Requirement already satisfied: requests<3.0.0,>=2.13.0 in /usr/local/lib/python3.10/dist-packages (from spacy) (2.31.0)\n",
            "Requirement already satisfied: pydantic!=1.8,!=1.8.1,<3.0.0,>=1.7.4 in /usr/local/lib/python3.10/dist-packages (from spacy) (2.6.3)\n",
            "Requirement already satisfied: jinja2 in /usr/local/lib/python3.10/dist-packages (from spacy) (3.1.3)\n",
            "Requirement already satisfied: setuptools in /usr/local/lib/python3.10/dist-packages (from spacy) (67.7.2)\n",
            "Requirement already satisfied: packaging>=20.0 in /usr/local/lib/python3.10/dist-packages (from spacy) (23.2)\n",
            "Requirement already satisfied: langcodes<4.0.0,>=3.2.0 in /usr/local/lib/python3.10/dist-packages (from spacy) (3.3.0)\n",
            "Requirement already satisfied: numpy>=1.19.0 in /usr/local/lib/python3.10/dist-packages (from spacy) (1.25.2)\n",
            "Requirement already satisfied: annotated-types>=0.4.0 in /usr/local/lib/python3.10/dist-packages (from pydantic!=1.8,!=1.8.1,<3.0.0,>=1.7.4->spacy) (0.6.0)\n",
            "Requirement already satisfied: pydantic-core==2.16.3 in /usr/local/lib/python3.10/dist-packages (from pydantic!=1.8,!=1.8.1,<3.0.0,>=1.7.4->spacy) (2.16.3)\n",
            "Requirement already satisfied: typing-extensions>=4.6.1 in /usr/local/lib/python3.10/dist-packages (from pydantic!=1.8,!=1.8.1,<3.0.0,>=1.7.4->spacy) (4.10.0)\n",
            "Requirement already satisfied: charset-normalizer<4,>=2 in /usr/local/lib/python3.10/dist-packages (from requests<3.0.0,>=2.13.0->spacy) (3.3.2)\n",
            "Requirement already satisfied: idna<4,>=2.5 in /usr/local/lib/python3.10/dist-packages (from requests<3.0.0,>=2.13.0->spacy) (3.6)\n",
            "Requirement already satisfied: urllib3<3,>=1.21.1 in /usr/local/lib/python3.10/dist-packages (from requests<3.0.0,>=2.13.0->spacy) (2.0.7)\n",
            "Requirement already satisfied: certifi>=2017.4.17 in /usr/local/lib/python3.10/dist-packages (from requests<3.0.0,>=2.13.0->spacy) (2024.2.2)\n",
            "Requirement already satisfied: blis<0.8.0,>=0.7.8 in /usr/local/lib/python3.10/dist-packages (from thinc<8.3.0,>=8.2.2->spacy) (0.7.11)\n",
            "Requirement already satisfied: confection<1.0.0,>=0.0.1 in /usr/local/lib/python3.10/dist-packages (from thinc<8.3.0,>=8.2.2->spacy) (0.1.4)\n",
            "Requirement already satisfied: click<9.0.0,>=7.1.1 in /usr/local/lib/python3.10/dist-packages (from typer<0.10.0,>=0.3.0->spacy) (8.1.7)\n",
            "Requirement already satisfied: cloudpathlib<0.17.0,>=0.7.0 in /usr/local/lib/python3.10/dist-packages (from weasel<0.4.0,>=0.1.0->spacy) (0.16.0)\n",
            "Requirement already satisfied: MarkupSafe>=2.0 in /usr/local/lib/python3.10/dist-packages (from jinja2->spacy) (2.1.5)\n",
            "time: 6.34 s (started: 2024-03-05 16:49:43 +00:00)\n"
          ]
        }
      ],
      "source": [
        "!pip install spacy\n",
        "import spacy"
      ]
    },
    {
      "cell_type": "code",
      "execution_count": null,
      "metadata": {
        "colab": {
          "base_uri": "https://localhost:8080/"
        },
        "id": "ODnVT0nHaH6X",
        "outputId": "c2906975-0abf-4cad-db10-1cb7be2d7b82"
      },
      "outputs": [
        {
          "name": "stdout",
          "output_type": "stream",
          "text": [
            "Requirement already satisfied: ipython-autotime in /usr/local/lib/python3.10/dist-packages (0.3.2)\n",
            "Requirement already satisfied: ipython in /usr/local/lib/python3.10/dist-packages (from ipython-autotime) (7.34.0)\n",
            "Requirement already satisfied: setuptools>=18.5 in /usr/local/lib/python3.10/dist-packages (from ipython->ipython-autotime) (67.7.2)\n",
            "Requirement already satisfied: jedi>=0.16 in /usr/local/lib/python3.10/dist-packages (from ipython->ipython-autotime) (0.19.1)\n",
            "Requirement already satisfied: decorator in /usr/local/lib/python3.10/dist-packages (from ipython->ipython-autotime) (4.4.2)\n",
            "Requirement already satisfied: pickleshare in /usr/local/lib/python3.10/dist-packages (from ipython->ipython-autotime) (0.7.5)\n",
            "Requirement already satisfied: traitlets>=4.2 in /usr/local/lib/python3.10/dist-packages (from ipython->ipython-autotime) (5.7.1)\n",
            "Requirement already satisfied: prompt-toolkit!=3.0.0,!=3.0.1,<3.1.0,>=2.0.0 in /usr/local/lib/python3.10/dist-packages (from ipython->ipython-autotime) (3.0.43)\n",
            "Requirement already satisfied: pygments in /usr/local/lib/python3.10/dist-packages (from ipython->ipython-autotime) (2.16.1)\n",
            "Requirement already satisfied: backcall in /usr/local/lib/python3.10/dist-packages (from ipython->ipython-autotime) (0.2.0)\n",
            "Requirement already satisfied: matplotlib-inline in /usr/local/lib/python3.10/dist-packages (from ipython->ipython-autotime) (0.1.6)\n",
            "Requirement already satisfied: pexpect>4.3 in /usr/local/lib/python3.10/dist-packages (from ipython->ipython-autotime) (4.9.0)\n",
            "Requirement already satisfied: parso<0.9.0,>=0.8.3 in /usr/local/lib/python3.10/dist-packages (from jedi>=0.16->ipython->ipython-autotime) (0.8.3)\n",
            "Requirement already satisfied: ptyprocess>=0.5 in /usr/local/lib/python3.10/dist-packages (from pexpect>4.3->ipython->ipython-autotime) (0.7.0)\n",
            "Requirement already satisfied: wcwidth in /usr/local/lib/python3.10/dist-packages (from prompt-toolkit!=3.0.0,!=3.0.1,<3.1.0,>=2.0.0->ipython->ipython-autotime) (0.2.13)\n",
            "time: 6.74 s (started: 2024-03-05 16:49:49 +00:00)\n"
          ]
        }
      ],
      "source": [
        "!pip install ipython-autotime"
      ]
    },
    {
      "cell_type": "code",
      "execution_count": null,
      "metadata": {
        "colab": {
          "base_uri": "https://localhost:8080/"
        },
        "id": "ebTC-rKaaH0o",
        "outputId": "f8f697aa-16d2-4f26-d127-a70eab9024da"
      },
      "outputs": [
        {
          "name": "stdout",
          "output_type": "stream",
          "text": [
            "The autotime extension is already loaded. To reload it, use:\n",
            "  %reload_ext autotime\n",
            "time: 2.82 ms (started: 2024-03-05 16:49:56 +00:00)\n"
          ]
        }
      ],
      "source": [
        "%load_ext autotime"
      ]
    },
    {
      "cell_type": "code",
      "execution_count": null,
      "metadata": {
        "colab": {
          "base_uri": "https://localhost:8080/"
        },
        "id": "AIZLAErwapUm",
        "outputId": "3f1b6045-2f52-4188-8f4f-c81765138f21"
      },
      "outputs": [
        {
          "name": "stdout",
          "output_type": "stream",
          "text": [
            "time: 492 µs (started: 2024-03-05 16:49:56 +00:00)\n"
          ]
        }
      ],
      "source": [
        "from textblob import TextBlob"
      ]
    },
    {
      "cell_type": "code",
      "execution_count": null,
      "metadata": {
        "colab": {
          "base_uri": "https://localhost:8080/"
        },
        "id": "YY-xhM1gapOJ",
        "outputId": "62c63682-14b6-410b-a2d0-64f6507f22a1"
      },
      "outputs": [
        {
          "name": "stdout",
          "output_type": "stream",
          "text": [
            "time: 693 µs (started: 2024-03-05 16:49:56 +00:00)\n"
          ]
        }
      ],
      "source": [
        "def preprocess(text):\n",
        "    \"\"\"\n",
        "    Preprocess text by converting it to lowercase and removing accents.\n",
        "    \"\"\"\n",
        "    blob = TextBlob(text)\n",
        "    return blob.lower().deaccent().string\n"
      ]
    },
    {
      "cell_type": "code",
      "execution_count": null,
      "metadata": {
        "colab": {
          "base_uri": "https://localhost:8080/"
        },
        "id": "IBxFolCxapHU",
        "outputId": "22ec5072-a411-4b4c-8115-0dce608dfef5"
      },
      "outputs": [
        {
          "name": "stdout",
          "output_type": "stream",
          "text": [
            "time: 552 µs (started: 2024-03-05 16:49:56 +00:00)\n"
          ]
        }
      ],
      "source": [
        "vectoriser = TfidfVectorizer(max_features=5, preprocessor=preprocess)"
      ]
    },
    {
      "cell_type": "code",
      "execution_count": null,
      "metadata": {
        "colab": {
          "base_uri": "https://localhost:8080/"
        },
        "id": "DDmPARkUbO5x",
        "outputId": "07cf6415-5f92-453f-c43c-112cc0cd60cb"
      },
      "outputs": [
        {
          "name": "stdout",
          "output_type": "stream",
          "text": [
            "time: 659 µs (started: 2024-03-05 16:49:56 +00:00)\n"
          ]
        }
      ],
      "source": [
        "def preprocess(text):\n",
        "    \"\"\"\n",
        "    Preprocesses a text string.\n",
        "    \"\"\"\n",
        "    blob = TextBlob(text)\n",
        "    return blob.lower().string"
      ]
    },
    {
      "cell_type": "code",
      "execution_count": null,
      "metadata": {
        "colab": {
          "base_uri": "https://localhost:8080/"
        },
        "id": "NXQ2xrk_Plt0",
        "outputId": "b5074a70-4ca0-4f5b-f6c2-4d862ac6e04e"
      },
      "outputs": [
        {
          "name": "stdout",
          "output_type": "stream",
          "text": [
            "time: 1.16 ms (started: 2024-03-05 16:49:56 +00:00)\n"
          ]
        }
      ],
      "source": [
        "def model_Evaluate(model):\n",
        "  y_pred = model.predict(X_test)\n",
        "  print(classification_report(y_test, y_pred))\n",
        "  cf_matrix = confusion_matrix(y_test, y_pred)\n"
      ]
    },
    {
      "cell_type": "code",
      "execution_count": null,
      "metadata": {
        "colab": {
          "base_uri": "https://localhost:8080/"
        },
        "id": "IxScDsKlbvZ5",
        "outputId": "112625ab-084d-4d25-94f4-c8cf42bc0b73"
      },
      "outputs": [
        {
          "name": "stdout",
          "output_type": "stream",
          "text": [
            "time: 569 µs (started: 2024-03-05 16:49:56 +00:00)\n"
          ]
        }
      ],
      "source": [
        "cf_matrix = np.array([[10, 2], [3, 8]])"
      ]
    },
    {
      "cell_type": "code",
      "execution_count": null,
      "metadata": {
        "colab": {
          "base_uri": "https://localhost:8080/"
        },
        "id": "UJg9YjE4bvUL",
        "outputId": "eb3bc992-4f05-4711-dfba-80435e8afad2"
      },
      "outputs": [
        {
          "name": "stdout",
          "output_type": "stream",
          "text": [
            "time: 786 µs (started: 2024-03-05 16:49:56 +00:00)\n"
          ]
        }
      ],
      "source": [
        "group_percentages = ['{0:.2%}'.format(value) for value in cf_matrix.flatten() / np.sum(cf_matrix)]"
      ]
    },
    {
      "cell_type": "code",
      "execution_count": null,
      "metadata": {
        "colab": {
          "base_uri": "https://localhost:8080/"
        },
        "id": "jd5p9j8fb0FI",
        "outputId": "1a6d2412-e76e-4105-ba88-5ad974df41ec"
      },
      "outputs": [
        {
          "name": "stdout",
          "output_type": "stream",
          "text": [
            "time: 836 µs (started: 2024-03-05 16:49:56 +00:00)\n"
          ]
        }
      ],
      "source": [
        "labels = [f'{v1}n{v2}' for v1, v2 in zip(group_names, group_percentages)]\n",
        "labels = np.asarray(labels).reshape(2, 2)"
      ]
    },
    {
      "cell_type": "code",
      "execution_count": null,
      "metadata": {
        "colab": {
          "base_uri": "https://localhost:8080/",
          "height": 527
        },
        "id": "ctjSrm_8b3Mt",
        "outputId": "eb800601-940b-4dfe-b84f-19c535506803"
      },
      "outputs": [
        {
          "data": {
            "image/png": "[encoded data removed]",
            "text/plain": [
              "<Figure size 640x480 with 2 Axes>"
            ]
          },
          "metadata": {},
          "output_type": "display_data"
        },
        {
          "name": "stdout",
          "output_type": "stream",
          "text": [
            "time: 381 ms (started: 2024-03-05 16:49:56 +00:00)\n"
          ]
        }
      ],
      "source": [
        "sns.heatmap(cf_matrix, annot=labels, cmap='Blues', fmt='',\n",
        "            xticklabels=categories, yticklabels=categories)\n",
        "plt.xlabel(\"Predicted values\", fontdict={'size': 14}, labelpad=10)\n",
        "plt.ylabel(\"Actual values\", fontdict={'size': 14}, labelpad=10)\n",
        "plt.title(\"Confusion Matrix\", fontdict={'size': 18}, pad=20)\n",
        "plt.show()"
      ]
    },
    {
      "cell_type": "code",
      "execution_count": null,
      "metadata": {
        "colab": {
          "base_uri": "https://localhost:8080/",
          "height": 546
        },
        "id": "1cNvfALobjeZ",
        "outputId": "7bf4a139-345d-45c3-b508-0aef3f1b2f60"
      },
      "outputs": [
        {
          "data": {
            "text/plain": [
              "Text(0.5, 1.0, 'Confusion Matrix')"
            ]
          },
          "execution_count": 345,
          "metadata": {},
          "output_type": "execute_result"
        },
        {
          "data": {
            "image/png": "[encoded data removed]",
            "text/plain": [
              "<Figure size 640x480 with 2 Axes>"
            ]
          },
          "metadata": {},
          "output_type": "display_data"
        },
        {
          "name": "stdout",
          "output_type": "stream",
          "text": [
            "time: 305 ms (started: 2024-03-05 16:49:56 +00:00)\n"
          ]
        }
      ],
      "source": [
        "categories = ['Negative','Positive']\n",
        "group_names = ['True Neg','False Pos', 'False Neg','True Pos']\n",
        "group_percentages = ['{0:.2%}'.format(value) for value in cf_matrix.flatten() / np.sum(cf_matrix)]\n",
        "labels = [f'{v1}n{v2}' for v1, v2 in zip(group_names,group_percentages)]\n",
        "labels = np.asarray(labels).reshape(2,2)\n",
        "sns.heatmap(cf_matrix, annot = labels, cmap = 'Blues',fmt = '',\n",
        "xticklabels = categories, yticklabels = categories)\n",
        "plt.xlabel(\"Predicted values\", fontdict = {'size':14}, labelpad = 10)\n",
        "plt.ylabel(\"Actual values\" , fontdict = {'size':14}, labelpad = 10)\n",
        "plt.title (\"Confusion Matrix\", fontdict = {'size':18}, pad = 20)"
      ]
    },
    {
      "cell_type": "code",
      "execution_count": null,
      "metadata": {
        "colab": {
          "base_uri": "https://localhost:8080/"
        },
        "id": "VfhYdsoVcLTG",
        "outputId": "bd78f62f-ba4f-4ee5-8387-568160868679"
      },
      "outputs": [
        {
          "name": "stdout",
          "output_type": "stream",
          "text": [
            "Requirement already satisfied: scikit-learn in /usr/local/lib/python3.10/dist-packages (1.2.2)\n",
            "Requirement already satisfied: numpy>=1.17.3 in /usr/local/lib/python3.10/dist-packages (from scikit-learn) (1.25.2)\n",
            "Requirement already satisfied: scipy>=1.3.2 in /usr/local/lib/python3.10/dist-packages (from scikit-learn) (1.11.4)\n",
            "Requirement already satisfied: joblib>=1.1.1 in /usr/local/lib/python3.10/dist-packages (from scikit-learn) (1.3.2)\n",
            "Requirement already satisfied: threadpoolctl>=2.0.0 in /usr/local/lib/python3.10/dist-packages (from scikit-learn) (3.3.0)\n",
            "time: 6.03 s (started: 2024-03-05 16:49:57 +00:00)\n"
          ]
        }
      ],
      "source": [
        "!pip install scikit-learn"
      ]
    },
    {
      "cell_type": "code",
      "execution_count": null,
      "metadata": {
        "colab": {
          "base_uri": "https://localhost:8080/"
        },
        "id": "E2vbq-OHcLNB",
        "outputId": "63e06f80-0c3b-4f2e-e3b0-bb60a0d1891d"
      },
      "outputs": [
        {
          "name": "stdout",
          "output_type": "stream",
          "text": [
            "time: 505 µs (started: 2024-03-05 16:50:03 +00:00)\n"
          ]
        }
      ],
      "source": [
        "from sklearn.naive_bayes import BernoulliNB"
      ]
    },
    {
      "cell_type": "code",
      "execution_count": null,
      "metadata": {
        "colab": {
          "base_uri": "https://localhost:8080/"
        },
        "id": "wCQUxjBrcQis",
        "outputId": "6d733a08-e6ff-4b08-9817-77f490994562"
      },
      "outputs": [
        {
          "name": "stderr",
          "output_type": "stream",
          "text": [
            "IOPub data rate exceeded.\n",
            "The notebook server will temporarily stop sending output\n",
            "to the client in order to avoid crashing it.\n",
            "To change this limit, set the config variable\n",
            "`--NotebookApp.iopub_data_rate_limit`.\n",
            "\n",
            "Current values:\n",
            "NotebookApp.iopub_data_rate_limit=1000000.0 (bytes/sec)\n",
            "NotebookApp.rate_limit_window=3.0 (secs)\n",
            "\n"
          ]
        }
      ],
      "source": [
        "print(globals())"
      ]
    },
    {
      "cell_type": "code",
      "execution_count": null,
      "metadata": {
        "colab": {
          "base_uri": "https://localhost:8080/"
        },
        "id": "HemLVs50clfQ",
        "outputId": "dd7baeb5-394e-4bc0-dfc8-0fbd774a2ddd"
      },
      "outputs": [
        {
          "name": "stdout",
          "output_type": "stream",
          "text": [
            "time: 610 µs (started: 2024-03-05 16:50:03 +00:00)\n"
          ]
        }
      ],
      "source": [
        "from sklearn.naive_bayes import BernoulliNB\n",
        "from sklearn.metrics import confusion_matrix, accuracy_score, classification_report"
      ]
    },
    {
      "cell_type": "code",
      "execution_count": null,
      "metadata": {
        "colab": {
          "base_uri": "https://localhost:8080/"
        },
        "id": "zmhDL0EzclYy",
        "outputId": "e7ebdda9-e4b9-45d5-9b8b-77f60858ea87"
      },
      "outputs": [
        {
          "name": "stdout",
          "output_type": "stream",
          "text": [
            "time: 696 µs (started: 2024-03-05 16:50:03 +00:00)\n"
          ]
        }
      ],
      "source": [
        "def model_Evaluate(model, y_test, y_pred):\n",
        "    cm = confusion_matrix(y_test, y_pred)\n",
        "    accuracy = accuracy_score(y_test, y_pred)\n",
        "    report = classification_report(y_test, y_pred)\n",
        "    print(\"Confusion Matrix:\\n\", cm)\n",
        "    print(\"Accuracy:\", accuracy)\n",
        "    print(\"Classification Report:\\n\", report)"
      ]
    },
    {
      "cell_type": "code",
      "execution_count": null,
      "metadata": {
        "colab": {
          "base_uri": "https://localhost:8080/"
        },
        "id": "oicXYpK1dXFn",
        "outputId": "4822bccd-618a-44da-8204-2c0b9fa0274f"
      },
      "outputs": [
        {
          "name": "stdout",
          "output_type": "stream",
          "text": [
            "time: 952 µs (started: 2024-03-05 16:50:03 +00:00)\n"
          ]
        }
      ],
      "source": [
        "# Load the training data from a file or another source\n",
        "X_train = ...\n",
        "y_train = ..."
      ]
    },
    {
      "cell_type": "code",
      "execution_count": null,
      "metadata": {
        "colab": {
          "base_uri": "https://localhost:8080/"
        },
        "id": "dPbpoonZeA4_",
        "outputId": "5eef9ef1-4675-48e2-f9bf-e4776f5fb5c3"
      },
      "outputs": [
        {
          "name": "stdout",
          "output_type": "stream",
          "text": [
            "y_test is not defined\n",
            "time: 761 µs (started: 2024-03-05 16:50:03 +00:00)\n"
          ]
        }
      ],
      "source": [
        "\n",
        "\n",
        "# Check if 'y_test' is a column in the dataframe\n",
        "if \"y_test\" in df.columns:\n",
        "    print(\"y_test is defined\")\n",
        "else:\n",
        "    print(\"y_test is not defined\")"
      ]
    },
    {
      "cell_type": "code",
      "execution_count": null,
      "metadata": {
        "colab": {
          "base_uri": "https://localhost:8080/"
        },
        "id": "UT-eXoaVeU2o",
        "outputId": "a94dcdf5-f460-4301-c859-798c302252fe"
      },
      "outputs": [
        {
          "name": "stdout",
          "output_type": "stream",
          "text": [
            "Index(['text', 'target'], dtype='object')\n",
            "time: 894 µs (started: 2024-03-05 16:50:03 +00:00)\n"
          ]
        }
      ],
      "source": [
        "print(df.columns)"
      ]
    },
    {
      "cell_type": "code",
      "execution_count": null,
      "metadata": {
        "colab": {
          "base_uri": "https://localhost:8080/"
        },
        "id": "5P5VXsdqeUwP",
        "outputId": "d4f00936-9fbb-4c2f-96c7-961f749ebd86"
      },
      "outputs": [
        {
          "name": "stdout",
          "output_type": "stream",
          "text": [
            "None\n",
            "time: 666 µs (started: 2024-03-05 16:50:03 +00:00)\n"
          ]
        }
      ],
      "source": [
        "print(target_column)"
      ]
    },
    {
      "cell_type": "code",
      "execution_count": null,
      "metadata": {
        "colab": {
          "base_uri": "https://localhost:8080/"
        },
        "id": "y0519i37eb_H",
        "outputId": "40d71bf1-2121-46c1-c43b-14d6002a61f3"
      },
      "outputs": [
        {
          "name": "stdout",
          "output_type": "stream",
          "text": [
            "0    when modi promi…\n",
            "Name: y_test, dtype: object\n",
            "time: 2.91 ms (started: 2024-03-05 16:50:03 +00:00)\n"
          ]
        }
      ],
      "source": [
        "# Replace \"target_column\" with the actual column name from the DataFrame\n",
        "df[\"y_test\"] = df[\"text\"]\n",
        "\n",
        "# Print the 'y_test' column\n",
        "print(df[\"y_test\"])"
      ]
    },
    {
      "cell_type": "code",
      "execution_count": null,
      "metadata": {
        "colab": {
          "base_uri": "https://localhost:8080/"
        },
        "id": "EthdbVuDewGb",
        "outputId": "e67d5a8f-358f-4cbc-a92e-2fa1a96a733f"
      },
      "outputs": [
        {
          "name": "stdout",
          "output_type": "stream",
          "text": [
            "time: 514 µs (started: 2024-03-05 16:50:03 +00:00)\n"
          ]
        }
      ],
      "source": [
        "from sklearn.metrics import roc_curve, auc"
      ]
    },
    {
      "cell_type": "code",
      "execution_count": null,
      "metadata": {
        "colab": {
          "base_uri": "https://localhost:8080/"
        },
        "id": "bB9rkOiYfl9m",
        "outputId": "6607d866-fcc7-4fd6-8d52-1089d363dcb0"
      },
      "outputs": [
        {
          "name": "stdout",
          "output_type": "stream",
          "text": [
            "time: 368 µs (started: 2024-03-05 16:50:03 +00:00)\n"
          ]
        }
      ],
      "source": [
        "# Load the data into variables y_test and y_pred1\n",
        "# This step is not shown in the provided code snippet, but it is necessary for the code to run successfully."
      ]
    },
    {
      "cell_type": "code",
      "execution_count": null,
      "metadata": {
        "colab": {
          "base_uri": "https://localhost:8080/",
          "height": 583
        },
        "id": "fE8vxLfhgLHL",
        "outputId": "9754bfd9-2e7a-47cc-821c-681daf594184"
      },
      "outputs": [
        {
          "name": "stdout",
          "output_type": "stream",
          "text": [
            "Requirement already satisfied: scikit-learn in /usr/local/lib/python3.10/dist-packages (1.2.2)\n",
            "Requirement already satisfied: numpy>=1.17.3 in /usr/local/lib/python3.10/dist-packages (from scikit-learn) (1.25.2)\n",
            "Requirement already satisfied: scipy>=1.3.2 in /usr/local/lib/python3.10/dist-packages (from scikit-learn) (1.11.4)\n",
            "Requirement already satisfied: joblib>=1.1.1 in /usr/local/lib/python3.10/dist-packages (from scikit-learn) (1.3.2)\n",
            "Requirement already satisfied: threadpoolctl>=2.0.0 in /usr/local/lib/python3.10/dist-packages (from scikit-learn) (3.3.0)\n"
          ]
        },
        {
          "data": {
            "image/png": "[encoded data removed]",
            "text/plain": [
              "<Figure size 640x480 with 1 Axes>"
            ]
          },
          "metadata": {},
          "output_type": "display_data"
        },
        {
          "name": "stdout",
          "output_type": "stream",
          "text": [
            "time: 7.56 s (started: 2024-03-05 16:50:03 +00:00)\n"
          ]
        }
      ],
      "source": [
        "!pip install scikit-learn\n",
        "import matplotlib.pyplot as plt\n",
        "from sklearn.metrics import roc_curve, auc\n",
        "\n",
        "# Simulate some data\n",
        "y_true = [0, 1, 1, 0, 1]\n",
        "y_score = [0.1, 0.8, 0.3, 0.4, 0.9]\n",
        "\n",
        "# Calculate the ROC curve and AUC\n",
        "fpr, tpr, _ = roc_curve(y_true, y_score)\n",
        "roc_auc = auc(fpr, tpr)\n",
        "\n",
        "# Plot the ROC curve\n",
        "plt.figure()\n",
        "plt.plot(fpr, tpr, color='darkorange', lw=1, label='ROC curve (area = %0.2f)' % roc_auc)\n",
        "plt.xlim([0.0, 1.0])\n",
        "plt.ylim([0.0, 1.05])\n",
        "plt.xlabel('False Positive Rate')\n",
        "plt.ylabel('True Positive Rate')\n",
        "plt.title('ROC CURVE')\n",
        "plt.legend(loc=\"lower right\")\n",
        "plt.show()"
      ]
    },
    {
      "cell_type": "code",
      "execution_count": null,
      "metadata": {
        "colab": {
          "base_uri": "https://localhost:8080/"
        },
        "id": "o5tsp5C6gc6f",
        "outputId": "2d06f9ab-5d3a-4baa-ca5f-80b72c36e381"
      },
      "outputs": [
        {
          "name": "stdout",
          "output_type": "stream",
          "text": [
            "time: 508 µs (started: 2024-03-05 16:50:11 +00:00)\n"
          ]
        }
      ],
      "source": [
        "from sklearn.svm import LinearSVC"
      ]
    },
    {
      "cell_type": "code",
      "execution_count": null,
      "metadata": {
        "colab": {
          "base_uri": "https://localhost:8080/"
        },
        "id": "8Q8Fx7ZmgfDw",
        "outputId": "d71e9b56-36a1-4604-aa15-8b1aa22a6830"
      },
      "outputs": [
        {
          "name": "stdout",
          "output_type": "stream",
          "text": [
            "<class 'ellipsis'>\n",
            "time: 1.46 ms (started: 2024-03-05 16:50:11 +00:00)\n"
          ]
        }
      ],
      "source": [
        "print(type(y_train))"
      ]
    },
    {
      "cell_type": "code",
      "source": [
        "!pip install scikit-learn\n",
        "import matplotlib.pyplot as plt\n",
        "from sklearn.metrics import roc_curve, auc\n",
        "\n",
        "# Simulate some data\n",
        "y_true = [0, 1, 1, 0, 1]\n",
        "y_score = [0.1, 0.8, 0.3, 0.4, 0.9]\n",
        "\n",
        "# Calculate the ROC curve and AUC\n",
        "fpr, tpr, _ = roc_curve(y_true, y_score)\n",
        "roc_auc = auc(fpr, tpr)\n",
        "\n",
        "# Plot the ROC curve\n",
        "plt.figure()\n",
        "plt.plot(fpr, tpr, color='darkorange', lw=1, label='ROC curve (area = %0.2f)' % roc_auc)\n",
        "plt.xlim([0.0, 1.0])\n",
        "plt.ylim([0.0, 1.05])\n",
        "plt.xlabel('False Positive Rate')\n",
        "plt.ylabel('True Positive Rate')\n",
        "plt.title('ROC CURVE')\n",
        "plt.legend(loc=\"lower right\")\n",
        "plt.show()"
      ],
      "metadata": {
        "colab": {
          "base_uri": "https://localhost:8080/",
          "height": 583
        },
        "id": "UOjwGaSkhq0S",
        "outputId": "909533da-7706-4c46-9f2d-adee17ea892f"
      },
      "execution_count": 361,
      "outputs": [
        {
          "output_type": "stream",
          "name": "stdout",
          "text": [
            "Requirement already satisfied: scikit-learn in /usr/local/lib/python3.10/dist-packages (1.2.2)\n",
            "Requirement already satisfied: numpy>=1.17.3 in /usr/local/lib/python3.10/dist-packages (from scikit-learn) (1.25.2)\n",
            "Requirement already satisfied: scipy>=1.3.2 in /usr/local/lib/python3.10/dist-packages (from scikit-learn) (1.11.4)\n",
            "Requirement already satisfied: joblib>=1.1.1 in /usr/local/lib/python3.10/dist-packages (from scikit-learn) (1.3.2)\n",
            "Requirement already satisfied: threadpoolctl>=2.0.0 in /usr/local/lib/python3.10/dist-packages (from scikit-learn) (3.3.0)\n"
          ]
        },
        {
          "output_type": "display_data",
          "data": {
            "text/plain": [
              "<Figure size 640x480 with 1 Axes>"
            ],
            "image/png": "[encoded data removed]"
          },
          "metadata": {}
        },
        {
          "output_type": "stream",
          "name": "stdout",
          "text": [
            "time: 6.25 s (started: 2024-03-05 16:50:56 +00:00)\n"
          ]
        }
      ]
    },
    {
      "cell_type": "code",
      "source": [],
      "metadata": {
        "id": "jPwWgUq4hrf_"
      },
      "execution_count": null,
      "outputs": []
    }
  ],
  "metadata": {
    "colab": {
      "provenance": [],
      "authorship_tag": "ABX9TyO9JrxLHmCt4i9xYpZ3iqGo",
      "include_colab_link": true
    },
    "kernelspec": {
      "display_name": "Python 3",
      "name": "python3"
    },
    "language_info": {
      "name": "python"
    }
  },
  "nbformat": 4,
  "nbformat_minor": 0
}